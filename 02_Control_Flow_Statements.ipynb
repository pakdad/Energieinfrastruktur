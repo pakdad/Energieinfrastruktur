{
 "cells": [
  {
   "cell_type": "markdown",
   "metadata": {},
   "source": [
    "# A Brief Introduction to Python\n",
    "## Infrastrukturen Engineering\n",
    "## HafenCity Universität Hamburg (HCU)\n",
    "### The University Of The Built Environment And Metropolitan Development\n",
    "\n",
    "## Modul: BIW-M-211-100 Energie-Infrastructur\n",
    "## Instructors:\n",
    "### Prof. Dr.-Ing. Ingo Weidlich\n",
    "### Pakdad Pourbozorgi Langroudi"
   ]
  },
  {
   "cell_type": "markdown",
   "metadata": {},
   "source": [
    "# Control Flow Statements"
   ]
  },
  {
   "cell_type": "markdown",
   "metadata": {},
   "source": [
    "## If statements"
   ]
  },
  {
   "cell_type": "code",
   "execution_count": null,
   "metadata": {},
   "outputs": [],
   "source": [
    "# if conditional_test:\n",
    "#     do something"
   ]
  },
  {
   "cell_type": "code",
   "execution_count": 1,
   "metadata": {},
   "outputs": [
    {
     "name": "stdout",
     "output_type": "stream",
     "text": [
      "You are old enough to vote!\n"
     ]
    }
   ],
   "source": [
    "age = 18\n",
    "if age >= 18:\n",
    "    print(\"You are old enough to vote!\")"
   ]
  },
  {
   "cell_type": "code",
   "execution_count": 2,
   "metadata": {},
   "outputs": [],
   "source": [
    "age = 18"
   ]
  },
  {
   "cell_type": "code",
   "execution_count": 3,
   "metadata": {},
   "outputs": [],
   "source": [
    "if age < 18:\n",
    "    print(\"You are old enough to vote!\")"
   ]
  },
  {
   "cell_type": "code",
   "execution_count": 4,
   "metadata": {},
   "outputs": [],
   "source": [
    "# if conditional_test:\n",
    "#     do something\n",
    "# else:\n",
    "#     do something else"
   ]
  },
  {
   "cell_type": "code",
   "execution_count": 5,
   "metadata": {},
   "outputs": [
    {
     "name": "stdout",
     "output_type": "stream",
     "text": [
      "Sorry, you are too young to vote.\n"
     ]
    }
   ],
   "source": [
    "age = 16\n",
    "if age >= 18:\n",
    "    print(\"You are old enough to vote!\")\n",
    "else:\n",
    "    print(\"Sorry, you are too young to vote.\")"
   ]
  },
  {
   "cell_type": "code",
   "execution_count": 6,
   "metadata": {},
   "outputs": [],
   "source": [
    "# if conditional_test:\n",
    "#     do something\n",
    "# elif:\n",
    "#     do something else\n",
    "# else:\n",
    "#     do something else"
   ]
  },
  {
   "cell_type": "code",
   "execution_count": 7,
   "metadata": {},
   "outputs": [
    {
     "name": "stdout",
     "output_type": "stream",
     "text": [
      "x=y\n"
     ]
    }
   ],
   "source": [
    "x = 10\n",
    "y = 10\n",
    "if x > y:\n",
    "    print(\"x>y\")\n",
    "elif x < y:\n",
    "    print(\"x<y\")\n",
    "else:\n",
    "    print(\"x=y\")"
   ]
  },
  {
   "cell_type": "code",
   "execution_count": 8,
   "metadata": {},
   "outputs": [
    {
     "name": "stdout",
     "output_type": "stream",
     "text": [
      "You are a child!\n"
     ]
    }
   ],
   "source": [
    "age = 8\n",
    "if age < 12:\n",
    "    print(\"You are a child!\")\n",
    "elif age < 18:\n",
    "    print(\"You are teenager!\")\n",
    "else:\n",
    "    print(\"You are adualt!\")"
   ]
  },
  {
   "cell_type": "markdown",
   "metadata": {},
   "source": [
    "## Loops\n",
    "### For"
   ]
  },
  {
   "cell_type": "code",
   "execution_count": 9,
   "metadata": {},
   "outputs": [],
   "source": [
    "pipes = ['concrete', 'pe', 'steel', 'pre_insulated']"
   ]
  },
  {
   "cell_type": "code",
   "execution_count": 10,
   "metadata": {},
   "outputs": [],
   "source": [
    "# for variable in something:\n",
    "#     do something"
   ]
  },
  {
   "cell_type": "code",
   "execution_count": 11,
   "metadata": {},
   "outputs": [
    {
     "name": "stdout",
     "output_type": "stream",
     "text": [
      "this is a concrete pipe!\n",
      "this is a pe pipe!\n",
      "this is a steel pipe!\n",
      "this is a pre_insulated pipe!\n"
     ]
    }
   ],
   "source": [
    "for item in pipes:\n",
    "    print(f\"this is a {item} pipe!\")"
   ]
  },
  {
   "cell_type": "markdown",
   "metadata": {},
   "source": [
    "### While"
   ]
  },
  {
   "cell_type": "code",
   "execution_count": 12,
   "metadata": {},
   "outputs": [
    {
     "name": "stdout",
     "output_type": "stream",
     "text": [
      "1\n",
      "4\n",
      "9\n",
      "16\n",
      "25\n"
     ]
    }
   ],
   "source": [
    "i = 1\n",
    "while i < 6:\n",
    "    print(i ** 2)\n",
    "    i = i+1"
   ]
  },
  {
   "cell_type": "markdown",
   "metadata": {},
   "source": [
    "### Break\n",
    "As the name says. It is used to break out of a loop when a condition becomes true when executing the loop."
   ]
  },
  {
   "cell_type": "code",
   "execution_count": 13,
   "metadata": {},
   "outputs": [
    {
     "name": "stdout",
     "output_type": "stream",
     "text": [
      "0\n",
      "1\n",
      "2\n",
      "3\n",
      "4\n",
      "5\n",
      "6\n",
      "7\n"
     ]
    }
   ],
   "source": [
    "for i in range(100):\n",
    "    print(i)\n",
    "    if i>=7:\n",
    "        break"
   ]
  },
  {
   "cell_type": "markdown",
   "metadata": {},
   "source": [
    "### Continue\n",
    "With the continue statement we can stop the current iteration of the loop, and continue with the next."
   ]
  },
  {
   "cell_type": "code",
   "execution_count": 14,
   "metadata": {},
   "outputs": [
    {
     "name": "stdout",
     "output_type": "stream",
     "text": [
      "0\n",
      "1\n",
      "2\n",
      "3\n",
      "4\n",
      "3\n",
      "2\n",
      "1\n"
     ]
    }
   ],
   "source": [
    "for i in [0,1,2,3,4,5,6,3,2,8,9,1]:\n",
    "    if i>4:\n",
    "        continue\n",
    "    print(i)"
   ]
  },
  {
   "cell_type": "markdown",
   "metadata": {},
   "source": [
    "# Exercise 2: Loop over student list of dictionationaries\n",
    "1- Loop over the list_names that is a list of dictionaries and print when it is your name <br>\n",
    "2- Loop over the list_names that is a list of dictionaries and print all the names and lastnames and avoid to print the trainers name <br>\n",
    "Find the name of the student whose favorite color is black."
   ]
  },
  {
   "cell_type": "code",
   "execution_count": 17,
   "metadata": {},
   "outputs": [],
   "source": [
    "# %%\n",
    "pakdad={'name':'Pakdad',\n",
    "'lastname':'Pourbzorgi Langroudi',\n",
    "'matruculate_number':111111,\n",
    "'role':'trainer',\n",
    "'course':'enegrie_infrustruktur',\n",
    "'favorit_color':'Orange',\n",
    "'favorit_number':7}\n",
    "# %%\n",
    "dounia={'name':\"Dounia\",\n",
    "'lastname':\"Chlyeh\",\n",
    "'matruculate_number':6078315,\n",
    "'role':\"Student\",\n",
    "'course':\"REAP\",\n",
    "'favorit_color':\"Red\",\n",
    "'Favorite_Number':7}\n",
    "# %%\n",
    "tara={'name':\"Tara\",\n",
    "'lastname':\"Tizabi\",\n",
    "'matruculate_number':6081138,\n",
    "'role': \"Student\",\n",
    "'course':\"energy_infrastructur\",\n",
    "'favorit_color':\"gold\",\n",
    "'favorit_number':7}\n",
    "# %%\n",
    "celine={'name':\"celine\",\n",
    "'lastname':\"gehrke\",\n",
    "'matruculate_number':6043376,\n",
    "'role':\"student\",\n",
    "'course':\"energie infrastruktur\",\n",
    "'favorit_color':\"black\",\n",
    "'favorit_number':11}\n",
    "# %%\n",
    "malte={'name':\"Malte\",\n",
    "'lastname':\"Vielhaber\",\n",
    "'matruculate_number':6079591,\n",
    "'role':\"student\",\n",
    "\"course\":\"Energie-Infrastruktur\",\n",
    "'favorit_number':5,\n",
    "'favorit_color':\"grey\"}\n",
    "# %%\n",
    "mohammadamin = {'name': \"Amin\",\n",
    "'lastname': \"Azizmohammadi\",\n",
    "'matruculate_number': 6066880,\n",
    "\"role\":\"student\",\n",
    "\"course\": \"Energie-Infrastruktur\",\n",
    "'favorit_number': 23,\n",
    "\"favorit_color\": \"baby blue\",\n",
    "}\n",
    "# %%\n",
    "anneke={'lastname':\"Dräger\",\n",
    "'name':\"Anneke\",\n",
    "'matr_number':6080972,\n",
    "'role':\"Student\",\n",
    "'course':\"Energie-Infrastruktur\",\n",
    "'favourite_number':9,\n",
    "'favourite_colour':\"Grün\"}\n",
    "# %%\n",
    "samir={'name':\"Samir\",\n",
    "'lastname':\"Zerktouni\",\n",
    "'matruculate_number':6054769,\n",
    "'role':\"student\",\n",
    "'course':\"energy-infrastructure\",\n",
    "'favorit_number':7,\n",
    "'favorit_color':\"blue\"}\n",
    "# %%\n",
    "lea={'name':\"Lea\",\n",
    "'lastname':\"Döhle\",\n",
    "'matruculate_number':6058640,\n",
    "'role':\"Student\",\n",
    "'course':\"Energie-Infrastruktur\",\n",
    "'favorit_number':12,\n",
    "'favorit_color':\"gelb\"}\n",
    "# %%\n",
    "shaghayegh={'name':\"shaghayegh\",\n",
    "'lastname' :\",salehi\",\n",
    "'role':\"Student\",\n",
    "'course':\"Energie-Infrastruktur\",\n",
    "'favorit_number':7,\n",
    "'favorit_color':\"rot\"}\n",
    "# %%\n",
    "alireza = {'name': \"Alireza\",\n",
    "'favorit_color': \"Blue\",\n",
    "'city': \"Hamburg\",\n",
    "'role ': \"Student\",\n",
    "'favorit_number': 7,\n",
    "'matruculate_number': 6072015}\n",
    "# %%\n",
    "list_names = [alireza, anneke, celine, lea, malte, mohammadamin, pakdad, samir, shaghayegh, tara]"
   ]
  },
  {
   "cell_type": "code",
   "execution_count": null,
   "metadata": {},
   "outputs": [],
   "source": []
  }
 ],
 "metadata": {
  "interpreter": {
   "hash": "d683ff70896352d0fafba819a1307a8e631a1ccc23cc3243e7504b6911066331"
  },
  "kernelspec": {
   "display_name": "Python 3.7.10 ('tf')",
   "language": "python",
   "name": "python3"
  },
  "language_info": {
   "codemirror_mode": {
    "name": "ipython",
    "version": 3
   },
   "file_extension": ".py",
   "mimetype": "text/x-python",
   "name": "python",
   "nbconvert_exporter": "python",
   "pygments_lexer": "ipython3",
   "version": "3.7.10"
  }
 },
 "nbformat": 4,
 "nbformat_minor": 2
}
