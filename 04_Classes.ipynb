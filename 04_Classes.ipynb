{
 "cells": [
  {
   "cell_type": "markdown",
   "metadata": {},
   "source": [
    "# A Brief Introduction to Python\n",
    "## Infrastrukturen Engineering\n",
    "## HafenCity Universität Hamburg (HCU)\n",
    "### The University Of The Built Environment And Metropolitan Development\n",
    "\n",
    "## Modul: BIW-M-211-100 Energie-Infrastructur\n",
    "## Instructors:\n",
    "### Prof. Dr.-Ing. Ingo Weidlich\n",
    "### Pakdad Pourbozorgi Langroudi"
   ]
  },
  {
   "cell_type": "code",
   "execution_count": null,
   "metadata": {},
   "outputs": [],
   "source": [
    "try:\n",
    "  from google.colab import drive\n",
    "  IN_COLAB=True\n",
    "except:\n",
    "  IN_COLAB=False\n",
    "\n",
    "if IN_COLAB:\n",
    "  print(\"We're running Colab\")\n",
    "\n",
    "if IN_COLAB:\n",
    "  # Mount the Google Drive at mount\n",
    "  mount='/content/gdrive'\n",
    "  print(\"Colab: mounting Google drive on \", mount)\n",
    "\n",
    "  drive.mount(mount)\n",
    "\n",
    "  # Switch to the directory on the Google Drive that you want to use\n",
    "  import os\n",
    "  drive_root = mount + \"/MyDrive/MyCourses\"\n",
    "  \n",
    "  # Create drive_root if it doesn't exist\n",
    "  create_drive_root = True\n",
    "  if create_drive_root:\n",
    "    print(\"\\nColab: making sure \", drive_root, \" exists.\")\n",
    "    os.makedirs(drive_root, exist_ok=True)\n",
    "  \n",
    "  # Change to the directory\n",
    "  print(\"\\nColab: Changing directory to \", drive_root)\n",
    "  %cd $drive_root\n",
    "  if os.path.isdir(drive_root+'/Energieinfrastruktur'):\n",
    "    drive_root = drive_root+'/Energieinfrastruktur'\n",
    "    %cd $drive_root\n",
    "    ! git pull\n",
    "  else:\n",
    "    ! git clone https://github.com/pakdad/Energieinfrastruktur.git\n",
    "    drive_root = drive_root+'/Energieinfrastruktur'\n",
    "    %cd $drive_root"
   ]
  },
  {
   "cell_type": "markdown",
   "metadata": {},
   "source": [
    "# Classes"
   ]
  },
  {
   "attachments": {},
   "cell_type": "markdown",
   "metadata": {},
   "source": [
    "### Class Definition:\n",
    "Class names should be written in CamelCase, starting with an uppercase letter."
   ]
  },
  {
   "cell_type": "code",
   "execution_count": null,
   "metadata": {},
   "outputs": [],
   "source": [
    "class MyClass:\n",
    "    pass  # Placeholder for class definition"
   ]
  },
  {
   "attachments": {},
   "cell_type": "markdown",
   "metadata": {},
   "source": [
    "### Instantiating Objects:\n",
    "Objects are specific instances of a class, and each object can have its own unique data and behavior."
   ]
  },
  {
   "cell_type": "code",
   "execution_count": null,
   "metadata": {},
   "outputs": [],
   "source": [
    "my_object = MyClass()  # Creating an instance of MyClass"
   ]
  },
  {
   "cell_type": "code",
   "execution_count": null,
   "metadata": {},
   "outputs": [],
   "source": [
    "my_object = MyClass()  # Creating an instance of MyClass"
   ]
  },
  {
   "attachments": {},
   "cell_type": "markdown",
   "metadata": {},
   "source": [
    "### Attributes and Methods:\n",
    "Attributes are variables associated with a class or an instance, while methods are functions defined within a class that can perform certain actions."
   ]
  },
  {
   "cell_type": "code",
   "execution_count": null,
   "metadata": {},
   "outputs": [],
   "source": [
    "class MyClass:\n",
    "    def __init__(self):  # Constructor method\n",
    "        self.my_attribute = 42  # Attribute\n",
    "\n",
    "    def my_method(self):  # Method\n",
    "        print(\"Hello, World!\")"
   ]
  },
  {
   "attachments": {},
   "cell_type": "markdown",
   "metadata": {},
   "source": [
    "### Constructor Method:\n",
    "The __init__ method, also known as the constructor method. It is called automatically when an object is created and allows you to set the initial state of the object."
   ]
  },
  {
   "cell_type": "code",
   "execution_count": null,
   "metadata": {},
   "outputs": [],
   "source": [
    "class MyClass:\n",
    "    def __init__(self, initial_value):\n",
    "        self.my_attribute = initial_value\n",
    "        \n",
    "    def my_method(self):  # Method\n",
    "        print(\"Hello, World!\")"
   ]
  },
  {
   "attachments": {},
   "cell_type": "markdown",
   "metadata": {},
   "source": [
    "### Accessing Attributes and Methods:\n",
    "The difference between accessing class attributes and instance attributes."
   ]
  },
  {
   "cell_type": "code",
   "execution_count": null,
   "metadata": {},
   "outputs": [],
   "source": [
    "my_object = MyClass(10)\n",
    "print(my_object.my_attribute)  # Accessing an instance attribute\n",
    "my_object.my_method()  # Calling a method\n"
   ]
  },
  {
   "attachments": {},
   "cell_type": "markdown",
   "metadata": {},
   "source": [
    "### Inheritance:\n",
    "It allows you to create a new class based on an existing class, inheriting its attributes and methods. This promotes code reusability and allows you to create more specialized classes."
   ]
  },
  {
   "cell_type": "code",
   "execution_count": null,
   "metadata": {},
   "outputs": [],
   "source": [
    "class ChildClass(MyClass):  # Inherits from MyClass\n",
    "    def another_method(self):\n",
    "        print(\"This is a method in the child class!\")"
   ]
  },
  {
   "cell_type": "markdown",
   "metadata": {},
   "source": []
  },
  {
   "cell_type": "markdown",
   "metadata": {},
   "source": [
    "## Creating and Using a Class"
   ]
  },
  {
   "cell_type": "code",
   "execution_count": null,
   "metadata": {},
   "outputs": [],
   "source": [
    "class Pipe:\n",
    "    \"\"\"A simple attempt to model a pipe.\"\"\"\n",
    "    def __init__(self, id, built_year, failure_event=''):\n",
    "        \"\"\"Initialize name and age attributes.\"\"\"\n",
    "        self.id = id\n",
    "        self.built_year = built_year\n",
    "        if failure_event:\n",
    "            self.failure_event = failure_event\n",
    "\n",
    "\n",
    "    def calculate_age(self):\n",
    "        \"\"\"Calculate age of a pipe.\"\"\"\n",
    "        self.age = 2021 - self.built_year\n",
    "        print(f\"This pipe is {self.age} years old.\")\n",
    "\n",
    "\n",
    "    def pipe_info(self):\n",
    "        \"\"\"Display a simple greeting.\"\"\"\n",
    "        if self.failure_event:\n",
    "            description = f\"This is a pipe with the ID of {self.id}.\\n\\\n",
    "            This pipe is built on {self.built_year}.\\n\\\n",
    "            The pipe is damaged on {self.failure_event}.\"\n",
    "        else:\n",
    "            description = f\"This is a pipe with the ID of {self.id}.\\n\\\n",
    "            This pipe is built on {self.built_year}.\"\n",
    "        return print(description)"
   ]
  },
  {
   "cell_type": "markdown",
   "metadata": {},
   "source": [
    "## Making an Instance from a Class"
   ]
  },
  {
   "cell_type": "code",
   "execution_count": null,
   "metadata": {},
   "outputs": [],
   "source": [
    "pipe_1 = Pipe(20050705, 2005, 2021)"
   ]
  },
  {
   "cell_type": "code",
   "execution_count": null,
   "metadata": {},
   "outputs": [],
   "source": [
    "pipe_1.calculate_age()"
   ]
  },
  {
   "cell_type": "code",
   "execution_count": null,
   "metadata": {},
   "outputs": [],
   "source": [
    "pipe_1.age"
   ]
  },
  {
   "cell_type": "code",
   "execution_count": null,
   "metadata": {},
   "outputs": [],
   "source": [
    "pipe_1.pipe_info()"
   ]
  },
  {
   "cell_type": "markdown",
   "metadata": {},
   "source": [
    "## Creating Multiple Instances"
   ]
  },
  {
   "cell_type": "code",
   "execution_count": null,
   "metadata": {},
   "outputs": [],
   "source": [
    "pipe_1 = Pipe(20050705, 2005, 2021)\n",
    "pipe_2 = Pipe(20020603, 2002)\n",
    "pipe_3 = Pipe(200120803, 2012, 2019)"
   ]
  },
  {
   "cell_type": "markdown",
   "metadata": {},
   "source": [
    "## A Mini Test\n",
    "### How to programmatically find the oldest pipe?"
   ]
  },
  {
   "cell_type": "code",
   "execution_count": null,
   "metadata": {},
   "outputs": [],
   "source": [
    "pipes = [pipe_1, pipe_2, pipe_3]"
   ]
  },
  {
   "cell_type": "markdown",
   "metadata": {},
   "source": [
    "## Inheritance\n",
    "When one class inherits from another, it takes on the attributes and methods of the first class. The original class is called the parent class, and the new class is the child class."
   ]
  },
  {
   "cell_type": "code",
   "execution_count": null,
   "metadata": {},
   "outputs": [],
   "source": [
    "class KMR(Pipe):\n",
    "    \"\"\"Represent aspects of a pipe, specific to pre-insulated pipes.\"\"\"\n",
    "    \n",
    "    def __init__(self, id, built_year, foam_thickness, failure_event=''):\n",
    "        \"\"\"Initialize attributes of the parent class.\"\"\"\n",
    "        super().__init__(id, built_year, failure_event)\n",
    "        self.foam_thickness = foam_thickness\n"
   ]
  },
  {
   "cell_type": "code",
   "execution_count": null,
   "metadata": {},
   "outputs": [],
   "source": [
    "pipe_4 = KMR(20050705, 2005, 10, 2021)\n",
    "pipe_5 = KMR(20050705, 2005, 8)"
   ]
  },
  {
   "cell_type": "code",
   "execution_count": null,
   "metadata": {},
   "outputs": [],
   "source": [
    "pipe_4.calculate_age()"
   ]
  },
  {
   "cell_type": "code",
   "execution_count": null,
   "metadata": {},
   "outputs": [],
   "source": [
    "pipe_4.age"
   ]
  },
  {
   "cell_type": "code",
   "execution_count": null,
   "metadata": {},
   "outputs": [],
   "source": []
  }
 ],
 "metadata": {
  "interpreter": {
   "hash": "9050ddd67e3bbb42e51beccf30f465bd317ed76acdf5694a495d5b40098d7c7e"
  },
  "kernelspec": {
   "display_name": "Python 3",
   "language": "python",
   "name": "python3"
  },
  "language_info": {
   "codemirror_mode": {
    "name": "ipython",
    "version": 3
   },
   "file_extension": ".py",
   "mimetype": "text/x-python",
   "name": "python",
   "nbconvert_exporter": "python",
   "pygments_lexer": "ipython3",
   "version": "3.7.10"
  }
 },
 "nbformat": 4,
 "nbformat_minor": 2
}
