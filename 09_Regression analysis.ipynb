{
 "cells": [
  {
   "cell_type": "markdown",
   "metadata": {},
   "source": [
    "# A Brief Introduction to Python\n",
    "## Infrastrukturen Engineering\n",
    "## HafenCity Universität Hamburg (HCU)\n",
    "### The University Of The Built Environment And Metropolitan Development\n",
    "\n",
    "## Modul: BIW-M-211-100 Energie-Infrastructur\n",
    "## Instructors:\n",
    "### Prof. Dr.-Ing. Ingo Weidlich\n",
    "### Pakdad Pourbozorgi Langroudi"
   ]
  },
  {
   "cell_type": "code",
   "execution_count": null,
   "metadata": {},
   "outputs": [],
   "source": [
    "try:\n",
    "  from google.colab import drive\n",
    "  IN_COLAB=True\n",
    "except:\n",
    "  IN_COLAB=False\n",
    "\n",
    "if IN_COLAB:\n",
    "  print(\"We're running Colab\")\n",
    "\n",
    "if IN_COLAB:\n",
    "  # Mount the Google Drive at mount\n",
    "  mount='/content/gdrive'\n",
    "  print(\"Colab: mounting Google drive on \", mount)\n",
    "\n",
    "  drive.mount(mount)\n",
    "\n",
    "  # Switch to the directory on the Google Drive that you want to use\n",
    "  import os\n",
    "  drive_root = mount + \"/MyDrive/MyCourses\"\n",
    "  \n",
    "  # Create drive_root if it doesn't exist\n",
    "  create_drive_root = True\n",
    "  if create_drive_root:\n",
    "    print(\"\\nColab: making sure \", drive_root, \" exists.\")\n",
    "    os.makedirs(drive_root, exist_ok=True)\n",
    "  \n",
    "  # Change to the directory\n",
    "  print(\"\\nColab: Changing directory to \", drive_root)\n",
    "  %cd $drive_root\n",
    "  if os.path.isdir(drive_root+'/Energieinfrastruktur'):\n",
    "    drive_root = drive_root+'/Energieinfrastruktur'\n",
    "    %cd $drive_root\n",
    "    ! git pull\n",
    "  else:\n",
    "    ! git clone https://github.com/pakdad/Energieinfrastruktur.git\n",
    "    drive_root = drive_root+'/Energieinfrastruktur'\n",
    "    %cd $drive_root"
   ]
  },
  {
   "cell_type": "markdown",
   "metadata": {},
   "source": [
    "# Regression Analysis\n",
    "## Using Numpy, Pandas, Matplotlib, and Sklearn Lirbaries"
   ]
  },
  {
   "cell_type": "code",
   "execution_count": null,
   "metadata": {},
   "outputs": [],
   "source": [
    "# Import necessary libraries\n",
    "# Using np as numpy, pd as pandas and plt as pyplot is a convention,\n",
    "# and it is recomended to keep it as this format in your codes.\n",
    "from statistics import mean\n",
    "import numpy as np\n",
    "import pandas as pd\n",
    "import matplotlib.pyplot as plt\n",
    "from matplotlib import style\n",
    "\n",
    "style.use('fivethirtyeight')\n",
    "#%matplotlib inline"
   ]
  },
  {
   "cell_type": "code",
   "execution_count": null,
   "metadata": {},
   "outputs": [],
   "source": [
    "# reading our data file directly with numpy.\n",
    "df = pd.read_csv('Data/regression.csv', index_col=0)\n",
    "df.head() # method head returns the first five rows of the dataframe\n",
    "# to see the last five rows the method tail could be used.\n",
    "#df.tail()\n",
    "# to see arbitrary row numbers, the number could be given in method head or tail as follow:\n",
    "#df.head(10)"
   ]
  },
  {
   "cell_type": "code",
   "execution_count": null,
   "metadata": {},
   "outputs": [],
   "source": [
    "# function len Return the number of items in a list, array, dataframe, ...:\n",
    "len(df)"
   ]
  },
  {
   "cell_type": "code",
   "execution_count": null,
   "metadata": {},
   "outputs": [],
   "source": [
    "df.describe()"
   ]
  },
  {
   "cell_type": "code",
   "execution_count": null,
   "metadata": {},
   "outputs": [],
   "source": [
    "df.info()"
   ]
  },
  {
   "cell_type": "markdown",
   "metadata": {},
   "source": [
    "The Linear Equation Is:\n",
    "Mathematically, a linear relationship is one that satisfies the equation:\n",
    "\n",
    "\\begin{aligned} &y = mx + b \\\\ &\\textbf{where:}\\\\ &m=\\text{slope}\\\\ &b=\\text{y-intercept}\\\\ \\end{aligned}\n",
    "\n",
    "“x” and “y” are two variables which are related by the parameters “m” and “b”. Graphically, y = mx + b plots in the x-y plane as a line with slope “m” and y-intercept “b.” The y-intercept “b” is simply the value of “y” when x=0. The slope “m” is calculated from any two individual points (x1, y1) and (x2, y2) as:\n",
    "\n",
    "\\begin{aligned}m = \\frac{(y_2 - y_1)}{(x_2 - x_1)}\n",
    "\\end{aligned}"
   ]
  },
  {
   "cell_type": "code",
   "execution_count": null,
   "metadata": {},
   "outputs": [],
   "source": [
    "PEMDAS"
   ]
  },
  {
   "cell_type": "code",
   "execution_count": null,
   "metadata": {},
   "outputs": [],
   "source": [
    "print(5-2*3)"
   ]
  },
  {
   "cell_type": "code",
   "execution_count": null,
   "metadata": {},
   "outputs": [],
   "source": [
    "list_1 = [1,2,3,5]"
   ]
  },
  {
   "cell_type": "code",
   "execution_count": null,
   "metadata": {},
   "outputs": [],
   "source": [
    "mean(list_1)"
   ]
  },
  {
   "cell_type": "code",
   "execution_count": null,
   "metadata": {},
   "outputs": [],
   "source": [
    "def best_fit_slope(xs, ys):\n",
    "    ''' This function fits the regression line and find the slope and intercept '''\n",
    "    m = ( ((mean(xs)*mean(ys)) - (mean(xs*ys))) /\n",
    "         (mean(xs)**2  - mean(xs**2)) )\n",
    "    b = mean(ys) - m*mean(xs)\n",
    "    return m, b\n",
    "\n",
    "def se(ys, regression):\n",
    "    ''' This function returns the squared error '''\n",
    "    return sum((ys-regression)**2)\n",
    "\n",
    "def cod(ys, regression):\n",
    "    ''' This function returns the Coefficient of determination (r^2) '''\n",
    "    ys_mean = [mean(ys) for y in ys]\n",
    "    reg_se = se(ys, regression)\n",
    "    ys_se = se(ys, ys_mean)\n",
    "    cod = 1 - (reg_se/ys_se)\n",
    "    return cod"
   ]
  },
  {
   "cell_type": "code",
   "execution_count": null,
   "metadata": {},
   "outputs": [],
   "source": [
    "# find the slope and intecept of regression line\n",
    "m, b = best_fit_slope(df['xs'], df['ys'])\n",
    "regression = m*df['xs']+b"
   ]
  },
  {
   "cell_type": "code",
   "execution_count": null,
   "metadata": {},
   "outputs": [],
   "source": [
    "# Visualize our data and regression line\n",
    "plt.scatter(df['xs'], df['ys'])\n",
    "plt.plot(df['xs'], regression, )\n",
    "plt.xlabel('Temperature (°C)')\n",
    "plt.ylabel('Service-Life (Year)')\n",
    "plt.show()"
   ]
  },
  {
   "cell_type": "code",
   "execution_count": null,
   "metadata": {},
   "outputs": [],
   "source": [
    "m"
   ]
  },
  {
   "cell_type": "code",
   "execution_count": null,
   "metadata": {},
   "outputs": [],
   "source": [
    "b"
   ]
  },
  {
   "cell_type": "code",
   "execution_count": null,
   "metadata": {},
   "outputs": [],
   "source": [
    "# predict a service life of a pipe if we operate it on 95°c\n",
    "predict_x = 95\n",
    "predict_y = (m*predict_x)+b\n",
    "print(predict_y) # our prediction\n",
    "print(cod(df['ys'], regression)) # the accuracy"
   ]
  },
  {
   "cell_type": "code",
   "execution_count": null,
   "metadata": {},
   "outputs": [],
   "source": [
    "# Visualize our data and regression line including the predicted point\n",
    "plt.scatter(df['xs'], df['ys'])\n",
    "plt.scatter(predict_x, predict_y, s=100, color='red')\n",
    "plt.plot(df['xs'], regression)\n",
    "plt.xlabel('Temperature (°C)')\n",
    "plt.ylabel('Year')\n",
    "plt.show()"
   ]
  },
  {
   "cell_type": "code",
   "execution_count": null,
   "metadata": {},
   "outputs": [],
   "source": [
    "# we can check the standard deviation\n",
    "np.std(df['ys'])"
   ]
  },
  {
   "cell_type": "markdown",
   "metadata": {},
   "source": [
    "The Formula for Multiple Linear Regression Is\n",
    "\\begin{aligned} &y_i = \\beta_0 + \\beta _1 x_{i1} + \\beta _2 x_{i2} + ... + \\beta _p x_{ip} + \\epsilon\\\\ &\\textbf{where, for } i = n \\textbf{ observations:}\\\\ &y_i=\\text{dependent variable}\\\\ &x_i=\\text{expanatory variables}\\\\ &\\beta_0=\\text{y-intercept (constant term)}\\\\ &\\beta_p=\\text{slope coefficients for each explanatory variable}\\\\ &\\epsilon=\\text{the model's error term (also known as the residuals)}\\\\ \\end{aligned} "
   ]
  },
  {
   "cell_type": "code",
   "execution_count": null,
   "metadata": {},
   "outputs": [],
   "source": [
    "# reading a dataframe for Multiple Linear Regression\n",
    "df = pd.read_csv('Data/multi_regression.csv', delimiter=\",\")\n",
    "df"
   ]
  },
  {
   "cell_type": "code",
   "execution_count": null,
   "metadata": {},
   "outputs": [],
   "source": [
    "# drop the unnamed: 0 column\n",
    "df = df.drop(['Unnamed: 0'], axis=1)\n",
    "df.head()"
   ]
  },
  {
   "cell_type": "code",
   "execution_count": null,
   "metadata": {},
   "outputs": [],
   "source": [
    "# check the linearity with our defined single linearity\n",
    "# regression function for the columns age and temperature\n",
    "m, b = best_fit_slope(df['Age'], df['Temperature'])\n",
    "regression = m*df['Age']+b"
   ]
  },
  {
   "cell_type": "code",
   "execution_count": null,
   "metadata": {},
   "outputs": [],
   "source": [
    "# visualize our regression fit\n",
    "plt.scatter(df['Age'], df['Temperature'])\n",
    "plt.plot(df['Age'], regression)\n",
    "plt.xlabel('Age')\n",
    "plt.ylabel('Temperature (°C)')\n",
    "plt.show()"
   ]
  },
  {
   "cell_type": "code",
   "execution_count": null,
   "metadata": {},
   "outputs": [],
   "source": [
    "# we can apply the same principle for the columns age and flow rate\n",
    "m, b = best_fit_slope(df['Age'], df['Flow_Rate'])\n",
    "regression = m*df['Age']+b"
   ]
  },
  {
   "cell_type": "code",
   "execution_count": null,
   "metadata": {},
   "outputs": [],
   "source": [
    "# visualize our regression fit\n",
    "plt.scatter(df['Age'], df['Flow_Rate'])\n",
    "plt.plot(df['Age'], regression)\n",
    "plt.xlabel('Age')\n",
    "plt.ylabel('Flow Rate')\n",
    "plt.show()"
   ]
  },
  {
   "cell_type": "code",
   "execution_count": null,
   "metadata": {},
   "outputs": [],
   "source": [
    "# read two more data frames\n",
    "df2 = pd.read_csv('Data/multi_regression2.csv', delimiter=\",\")\n",
    "df3 = pd.read_csv('Data/multi_regression3.csv', delimiter=\",\")\n",
    "# concatanate the dataframes to form a single large dataframe\n",
    "frames = [df, df2, df3]\n",
    "df = pd.concat(frames)\n",
    "df.describe() # this method describes the dataframe characteristics"
   ]
  },
  {
   "cell_type": "code",
   "execution_count": null,
   "metadata": {},
   "outputs": [],
   "source": [
    "df.head()"
   ]
  },
  {
   "cell_type": "code",
   "execution_count": null,
   "metadata": {},
   "outputs": [],
   "source": [
    "# drop the non relevant columns and shuffle it to imitate a real-world dataset\n",
    "df = df.drop(['Unnamed: 0'], axis=1)\n",
    "df = df.sample(frac = 1).reset_index()\n",
    "df = df.drop(['index'], axis=1)\n",
    "df.head()"
   ]
  },
  {
   "cell_type": "code",
   "execution_count": null,
   "metadata": {},
   "outputs": [],
   "source": [
    "from sklearn import preprocessing\n",
    "from sklearn.model_selection import train_test_split\n",
    "from sklearn.linear_model import LinearRegression"
   ]
  },
  {
   "cell_type": "code",
   "execution_count": null,
   "metadata": {},
   "outputs": [],
   "source": [
    "# Features are X and lables are y\n",
    "X = np.array(df.drop(['Age'], 1))\n",
    "y = np.array(df['Age'])\n",
    "\n",
    "X = preprocessing.scale(X)\n",
    "\n",
    "X_train, X_test, y_train, y_test = train_test_split(X, y, test_size = 0.2, random_state=42)\n",
    "\n",
    "clf = LinearRegression()\n",
    "clf.fit(X_train, y_train)\n",
    "accuracy = round(clf.score(X_test, y_test), 4)*100\n",
    "print(f\"The accuracy of the trained model with LinearRegression is : {accuracy}%\")\n"
   ]
  },
  {
   "cell_type": "code",
   "execution_count": null,
   "metadata": {},
   "outputs": [],
   "source": [
    "forecast_set = clf.predict(X)\n",
    "#print(forecast_set, accuracy)\n",
    "df = df.assign(Forecast = forecast_set)"
   ]
  },
  {
   "cell_type": "code",
   "execution_count": null,
   "metadata": {},
   "outputs": [],
   "source": [
    "df"
   ]
  }
 ],
 "metadata": {
  "kernelspec": {
   "display_name": "Python 3.9.13 ('tf')",
   "language": "python",
   "name": "python3"
  },
  "language_info": {
   "codemirror_mode": {
    "name": "ipython",
    "version": 3
   },
   "file_extension": ".py",
   "mimetype": "text/x-python",
   "name": "python",
   "nbconvert_exporter": "python",
   "pygments_lexer": "ipython3",
   "version": "3.9.13"
  },
  "vscode": {
   "interpreter": {
    "hash": "d683ff70896352d0fafba819a1307a8e631a1ccc23cc3243e7504b6911066331"
   }
  }
 },
 "nbformat": 4,
 "nbformat_minor": 4
}
