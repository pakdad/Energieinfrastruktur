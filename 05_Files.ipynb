{
 "cells": [
  {
   "cell_type": "markdown",
   "metadata": {},
   "source": [
    "# A Brief Introduction to Python\n",
    "## Infrastrukturen Engineering\n",
    "## HafenCity Universität Hamburg (HCU)\n",
    "### The University Of The Built Environment And Metropolitan Development\n",
    "\n",
    "## Modul: BIW-M-211-100 Energie-Infrastructur\n",
    "## Instructors:\n",
    "### Prof. Dr.-Ing. Ingo Weidlich\n",
    "### Pakdad Pourbozorgi Langroudi"
   ]
  },
  {
   "cell_type": "code",
   "execution_count": null,
   "metadata": {},
   "outputs": [],
   "source": [
    "try:\n",
    "  from google.colab import drive\n",
    "  IN_COLAB=True\n",
    "except:\n",
    "  IN_COLAB=False\n",
    "\n",
    "if IN_COLAB:\n",
    "  print(\"We're running Colab\")\n",
    "\n",
    "if IN_COLAB:\n",
    "  # Mount the Google Drive at mount\n",
    "  mount='/content/gdrive'\n",
    "  print(\"Colab: mounting Google drive on \", mount)\n",
    "\n",
    "  drive.mount(mount)\n",
    "\n",
    "  # Switch to the directory on the Google Drive that you want to use\n",
    "  import os\n",
    "  drive_root = mount + \"/MyDrive/MyCourses\"\n",
    "  \n",
    "  # Create drive_root if it doesn't exist\n",
    "  create_drive_root = True\n",
    "  if create_drive_root:\n",
    "    print(\"\\nColab: making sure \", drive_root, \" exists.\")\n",
    "    os.makedirs(drive_root, exist_ok=True)\n",
    "  \n",
    "  # Change to the directory\n",
    "  print(\"\\nColab: Changing directory to \", drive_root)\n",
    "  %cd $drive_root\n",
    "  if os.path.isdir(drive_root+'/Energieinfrastruktur'):\n",
    "    drive_root = drive_root+'/Energieinfrastruktur'\n",
    "    %cd $drive_root\n",
    "    ! git pull\n",
    "  else:\n",
    "    ! git clone https://github.com/pakdad/Energieinfrastruktur.git\n",
    "    drive_root = drive_root+'/Energieinfrastruktur'\n",
    "    %cd $drive_root"
   ]
  },
  {
   "cell_type": "markdown",
   "metadata": {},
   "source": [
    "# Files"
   ]
  },
  {
   "cell_type": "markdown",
   "metadata": {},
   "source": [
    "## Reading from a File"
   ]
  },
  {
   "cell_type": "code",
   "execution_count": 1,
   "metadata": {},
   "outputs": [
    {
     "name": "stdout",
     "output_type": "stream",
     "text": [
      "6072333\n",
      "6066880\n",
      "6069391\n",
      "3019643\n",
      "6071795\n",
      "6041063\n",
      "6057865\n",
      "6067844\n",
      "0000000\n"
     ]
    }
   ],
   "source": [
    "with open(\"Data/matrikel_nr_2022.txt\") as matrikel:\n",
    "    contents = matrikel.read()\n",
    "\n",
    "print(contents)"
   ]
  },
  {
   "cell_type": "code",
   "execution_count": 2,
   "metadata": {},
   "outputs": [
    {
     "ename": "SyntaxError",
     "evalue": "(unicode error) 'unicodeescape' codec can't decode bytes in position 2-3: truncated \\UXXXXXXXX escape (<ipython-input-2-8e4332025fad>, line 1)",
     "output_type": "error",
     "traceback": [
      "\u001b[1;36m  File \u001b[1;32m\"<ipython-input-2-8e4332025fad>\"\u001b[1;36m, line \u001b[1;32m1\u001b[0m\n\u001b[1;33m    file_path = \"C:\\Users\\DMZ_Admin\\Desktop\\matrikel_nr_2021.txt\"\u001b[0m\n\u001b[1;37m               ^\u001b[0m\n\u001b[1;31mSyntaxError\u001b[0m\u001b[1;31m:\u001b[0m (unicode error) 'unicodeescape' codec can't decode bytes in position 2-3: truncated \\UXXXXXXXX escape\n"
     ]
    }
   ],
   "source": [
    "file_path = \"Data/matrikel_nr_2022.txt\"\n",
    "\n",
    "with open(file_path) as matrikel:\n",
    "    contents = matrikel.read()\n",
    "\n",
    "print(contents)"
   ]
  },
  {
   "cell_type": "code",
   "execution_count": 3,
   "metadata": {},
   "outputs": [
    {
     "name": "stdout",
     "output_type": "stream",
     "text": [
      "6072333\n",
      "6066880\n",
      "6069391\n",
      "3019643\n",
      "6071795\n",
      "6041063\n",
      "6057865\n",
      "6067844\n",
      "0000000\n"
     ]
    }
   ],
   "source": [
    "# For windows users r is necessary\n",
    "# file_path = r\"C:\\Users\\DMZ_Admin\\Desktop\\matrikel_nr_2021.txt\"\n",
    "\n",
    "# with open(file_path) as matrikel:\n",
    "#     contents = matrikel.read()\n",
    "\n",
    "# print(contents)"
   ]
  },
  {
   "cell_type": "code",
   "execution_count": 4,
   "metadata": {},
   "outputs": [
    {
     "name": "stdout",
     "output_type": "stream",
     "text": [
      "6072333\n",
      "6066880\n",
      "6069391\n",
      "3019643\n",
      "6071795\n",
      "6041063\n",
      "6057865\n",
      "6067844\n",
      "0000000\n"
     ]
    }
   ],
   "source": [
    "# An alternative for windows users instead of r you can place double \\\\\n",
    "# file_path = \"C:\\\\Users\\\\DMZ_Admin\\\\Desktop\\\\matrikel_nr_2021.txt\"\n",
    "\n",
    "# with open(file_path) as matrikel:\n",
    "#     contents = matrikel.read()\n",
    "\n",
    "# print(contents)"
   ]
  },
  {
   "cell_type": "code",
   "execution_count": 5,
   "metadata": {},
   "outputs": [
    {
     "name": "stdout",
     "output_type": "stream",
     "text": [
      "6072333\n",
      "\n",
      "6066880\n",
      "\n",
      "6069391\n",
      "\n",
      "3019643\n",
      "\n",
      "6071795\n",
      "\n",
      "6041063\n",
      "\n",
      "6057865\n",
      "\n",
      "6067844\n",
      "\n",
      "0000000\n"
     ]
    }
   ],
   "source": [
    "# Read line by line\n",
    "file_path = \"Data/matrikel_nr_2022.txt\"\n",
    "\n",
    "with open(file_path) as matrikel:\n",
    "    for line in matrikel:\n",
    "        print(line)"
   ]
  },
  {
   "cell_type": "code",
   "execution_count": 6,
   "metadata": {},
   "outputs": [
    {
     "name": "stdout",
     "output_type": "stream",
     "text": [
      "6072333\n",
      "6066880\n",
      "6069391\n",
      "3019643\n",
      "6071795\n",
      "6041063\n",
      "6057865\n",
      "6067844\n",
      "0000000\n"
     ]
    }
   ],
   "source": [
    "file_path = \"Data/matrikel_nr_2022.txt\"\n",
    "\n",
    "with open(file_path) as matrikel:\n",
    "    for line in matrikel:\n",
    "        print(line.rstrip())"
   ]
  },
  {
   "cell_type": "markdown",
   "metadata": {},
   "source": [
    "## Writing to a File"
   ]
  },
  {
   "cell_type": "code",
   "execution_count": 7,
   "metadata": {},
   "outputs": [],
   "source": [
    "filename = 'Data/programming.txt'\n",
    "with open(filename, 'w') as file_object:\n",
    "    file_object.write(\"I love programming.\")"
   ]
  },
  {
   "cell_type": "markdown",
   "metadata": {},
   "source": [
    "## Appending to a File"
   ]
  },
  {
   "cell_type": "code",
   "execution_count": 8,
   "metadata": {},
   "outputs": [],
   "source": [
    "filename = 'Data/programming.txt'\n",
    "with open(filename, 'a') as file_object:\n",
    "    file_object.write(\"\\nI also love finding meaning in large datasets.\")"
   ]
  },
  {
   "cell_type": "markdown",
   "metadata": {},
   "source": [
    "# Exercise 5_1: Programmatically find your matriculation number in the file matrikel_nr_2022.txt"
   ]
  },
  {
   "cell_type": "code",
   "execution_count": 10,
   "metadata": {},
   "outputs": [],
   "source": [
    "file_path = \"matrikel_nr_2021.txt\""
   ]
  },
  {
   "cell_type": "code",
   "execution_count": 15,
   "metadata": {},
   "outputs": [],
   "source": [
    "with open(file_path, 'r') as matrikel:\n",
    "    for line in matrikel:\n",
    "        if line.rstrip() == '135':\n",
    "            print(\"The matriculation number is inside the file.\")\n"
   ]
  },
  {
   "cell_type": "markdown",
   "metadata": {},
   "source": [
    "# Exercise 5_2: Creat a txt file from the dictionary name_list which consist of only name and matriculation number of the students"
   ]
  },
  {
   "cell_type": "code",
   "execution_count": 24,
   "metadata": {},
   "outputs": [],
   "source": [
    "# importing the list_name data\n",
    "import pickle\n",
    "\n",
    "with open ('Data/list_name.pickle', 'rb') as names:\n",
    "    name_list = pickle.load(names)"
   ]
  },
  {
   "cell_type": "code",
   "execution_count": null,
   "metadata": {},
   "outputs": [],
   "source": []
  }
 ],
 "metadata": {
  "interpreter": {
   "hash": "d683ff70896352d0fafba819a1307a8e631a1ccc23cc3243e7504b6911066331"
  },
  "kernelspec": {
   "display_name": "Python 3.7.10 ('tf')",
   "language": "python",
   "name": "python3"
  },
  "language_info": {
   "codemirror_mode": {
    "name": "ipython",
    "version": 3
   },
   "file_extension": ".py",
   "mimetype": "text/x-python",
   "name": "python",
   "nbconvert_exporter": "python",
   "pygments_lexer": "ipython3",
   "version": "3.7.10"
  }
 },
 "nbformat": 4,
 "nbformat_minor": 2
}
