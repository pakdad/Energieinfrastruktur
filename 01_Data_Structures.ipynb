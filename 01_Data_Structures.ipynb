{
 "cells": [
  {
   "cell_type": "markdown",
   "id": "02984d2f",
   "metadata": {},
   "source": [
    "# A Brief Introduction to Python\n",
    "## Infrastrukturen Engineering\n",
    "## HafenCity Universität Hamburg (HCU)\n",
    "### The University Of The Built Environment And Metropolitan Development\n",
    "\n",
    "## Modul: BIW-M-211-100 Energie-Infrastructur\n",
    "## Instructors:\n",
    "### Prof. Dr.-Ing. Ingo Weidlich\n",
    "### Pakdad Pourbozorgi Langroudi"
   ]
  },
  {
   "cell_type": "markdown",
   "id": "8d6e3369",
   "metadata": {},
   "source": [
    "# Data Structures"
   ]
  },
  {
   "cell_type": "markdown",
   "id": "5edd9ab9",
   "metadata": {},
   "source": [
    "## List\n",
    "A list is a collection of items in a particular order. You can make a list that includes the letters of the alphabet, the digits from 0–9, or the names of all the people in your family. You can put anything you want into a list, and the items in your list don’t have to be related in any particular way."
   ]
  },
  {
   "cell_type": "code",
   "execution_count": null,
   "id": "dc6a1cfe",
   "metadata": {},
   "outputs": [],
   "source": [
    "a_list = [1, \"Python\", 5.4, \"Language\"]"
   ]
  },
  {
   "cell_type": "code",
   "execution_count": null,
   "id": "c618f9c5",
   "metadata": {},
   "outputs": [],
   "source": [
    "print(a_list)"
   ]
  },
  {
   "cell_type": "code",
   "execution_count": null,
   "id": "c7b947ac",
   "metadata": {},
   "outputs": [],
   "source": [
    "pipes = ['concrete', 'pe', 'steel', 'pre_insulated']\n",
    "print(pipes)"
   ]
  },
  {
   "cell_type": "markdown",
   "id": "6e24f573",
   "metadata": {},
   "source": [
    "### Accessing Elements in a List"
   ]
  },
  {
   "cell_type": "code",
   "execution_count": null,
   "id": "c41696a6",
   "metadata": {},
   "outputs": [],
   "source": [
    "print(pipes[0])\n",
    "print(pipes[1])\n",
    "print(pipes[2])\n",
    "print(pipes[3])"
   ]
  },
  {
   "cell_type": "code",
   "execution_count": null,
   "id": "565e1e4b",
   "metadata": {},
   "outputs": [],
   "source": [
    "message = f\"In this course, our focus will be on {pipes[3].title()} pipes.\"\n",
    "print(message)"
   ]
  },
  {
   "cell_type": "markdown",
   "id": "d38247e0",
   "metadata": {},
   "source": [
    "### Modifying Elements in a List"
   ]
  },
  {
   "cell_type": "code",
   "execution_count": null,
   "id": "af516bcb",
   "metadata": {},
   "outputs": [],
   "source": [
    "pipes[1] = \"polyethylene\"\n",
    "print(pipes)"
   ]
  },
  {
   "cell_type": "markdown",
   "id": "bed42bc6",
   "metadata": {},
   "source": [
    "### Adding Elements to a List\n",
    "Appending and Inserting\n"
   ]
  },
  {
   "cell_type": "code",
   "execution_count": null,
   "id": "69600452",
   "metadata": {},
   "outputs": [],
   "source": [
    "pipes.append(\"hdpe\")"
   ]
  },
  {
   "cell_type": "code",
   "execution_count": null,
   "id": "1c60639c",
   "metadata": {},
   "outputs": [],
   "source": [
    "print(pipes)"
   ]
  },
  {
   "cell_type": "code",
   "execution_count": null,
   "id": "026f623a",
   "metadata": {},
   "outputs": [],
   "source": [
    "pipes.insert(0, 'pvc')"
   ]
  },
  {
   "cell_type": "code",
   "execution_count": null,
   "id": "49b06df9",
   "metadata": {},
   "outputs": [],
   "source": [
    "print(pipes)"
   ]
  },
  {
   "cell_type": "markdown",
   "id": "acafbda4",
   "metadata": {},
   "source": [
    "### Removing Eelements from a List\n",
    "del statement, pop() method and remove() method"
   ]
  },
  {
   "cell_type": "code",
   "execution_count": null,
   "id": "0eae5ae1",
   "metadata": {},
   "outputs": [],
   "source": [
    "del pipes[0]\n",
    "print(pipes)"
   ]
  },
  {
   "cell_type": "code",
   "execution_count": null,
   "id": "aa9410b2",
   "metadata": {},
   "outputs": [],
   "source": [
    "pipes"
   ]
  },
  {
   "cell_type": "code",
   "execution_count": null,
   "id": "278ad05e",
   "metadata": {},
   "outputs": [],
   "source": [
    "poped_element = pipes.pop()"
   ]
  },
  {
   "cell_type": "code",
   "execution_count": null,
   "id": "4df71c60",
   "metadata": {},
   "outputs": [],
   "source": [
    "pipes"
   ]
  },
  {
   "cell_type": "code",
   "execution_count": null,
   "id": "8b3e1bd3",
   "metadata": {},
   "outputs": [],
   "source": [
    "poped_element"
   ]
  },
  {
   "cell_type": "code",
   "execution_count": null,
   "id": "0c58a69d",
   "metadata": {},
   "outputs": [],
   "source": [
    "pipes.pop(2)"
   ]
  },
  {
   "cell_type": "code",
   "execution_count": null,
   "id": "311ed332",
   "metadata": {},
   "outputs": [],
   "source": [
    "pipes"
   ]
  },
  {
   "cell_type": "code",
   "execution_count": null,
   "id": "292682d6",
   "metadata": {},
   "outputs": [],
   "source": [
    "pipes.remove('concrete')"
   ]
  },
  {
   "cell_type": "code",
   "execution_count": null,
   "id": "6305db00",
   "metadata": {},
   "outputs": [],
   "source": [
    "pipes"
   ]
  },
  {
   "cell_type": "code",
   "execution_count": null,
   "id": "73a980c2",
   "metadata": {},
   "outputs": [],
   "source": [
    "pipes = ['concrete', 'polyethylene', 'steel', 'pre_insulated', 'concrete']"
   ]
  },
  {
   "cell_type": "code",
   "execution_count": null,
   "id": "5b92cc81",
   "metadata": {},
   "outputs": [],
   "source": [
    "pipes.remove('concrete')"
   ]
  },
  {
   "cell_type": "code",
   "execution_count": null,
   "id": "8f19e2ae",
   "metadata": {},
   "outputs": [],
   "source": [
    "pipes"
   ]
  },
  {
   "cell_type": "markdown",
   "id": "8417dc85",
   "metadata": {},
   "source": [
    "### Organizing a List"
   ]
  },
  {
   "cell_type": "code",
   "execution_count": null,
   "id": "5fc63c28",
   "metadata": {},
   "outputs": [],
   "source": [
    "print(sorted(pipes))"
   ]
  },
  {
   "cell_type": "code",
   "execution_count": null,
   "id": "4973f034",
   "metadata": {},
   "outputs": [],
   "source": [
    "print(pipes)"
   ]
  },
  {
   "cell_type": "code",
   "execution_count": null,
   "id": "0e257b4c",
   "metadata": {},
   "outputs": [],
   "source": [
    "pipes.sort()\n",
    "print(pipes)"
   ]
  },
  {
   "cell_type": "code",
   "execution_count": null,
   "id": "94b1c23d",
   "metadata": {},
   "outputs": [],
   "source": [
    "pipes.sort(reverse=True)\n",
    "print(pipes)"
   ]
  },
  {
   "cell_type": "code",
   "execution_count": null,
   "id": "cd501683",
   "metadata": {},
   "outputs": [],
   "source": [
    "pipes.reverse()\n",
    "print(pipes)"
   ]
  },
  {
   "cell_type": "code",
   "execution_count": null,
   "id": "b6eeb25a",
   "metadata": {},
   "outputs": [],
   "source": [
    "# The length of a List\n",
    "len(pipes)"
   ]
  },
  {
   "cell_type": "markdown",
   "id": "f94ea18f",
   "metadata": {},
   "source": [
    "### Slicing"
   ]
  },
  {
   "cell_type": "code",
   "execution_count": null,
   "id": "3c417a0f",
   "metadata": {},
   "outputs": [],
   "source": [
    "nums = [0,1,2,3,4,5,6,7,8,9]"
   ]
  },
  {
   "cell_type": "code",
   "execution_count": null,
   "id": "1885016a",
   "metadata": {},
   "outputs": [],
   "source": [
    "print(nums[0:4])\n",
    "print(nums[4:])"
   ]
  },
  {
   "cell_type": "code",
   "execution_count": null,
   "id": "d0fa9284",
   "metadata": {},
   "outputs": [],
   "source": [
    "nums[:9:3]"
   ]
  },
  {
   "cell_type": "code",
   "execution_count": null,
   "id": "f76442c7",
   "metadata": {},
   "outputs": [],
   "source": [
    "print(min(nums))\n",
    "print(max(nums))"
   ]
  },
  {
   "cell_type": "code",
   "execution_count": null,
   "id": "f0b59aba",
   "metadata": {},
   "outputs": [],
   "source": [
    "# Concatenating Lists\n",
    "[1,2,3] + [5,4,7]"
   ]
  },
  {
   "cell_type": "markdown",
   "id": "04abdd4a",
   "metadata": {},
   "source": [
    "### Copying a list"
   ]
  },
  {
   "cell_type": "code",
   "execution_count": null,
   "id": "45a91b97",
   "metadata": {},
   "outputs": [],
   "source": [
    "lista= [2,1,4,3]"
   ]
  },
  {
   "cell_type": "code",
   "execution_count": null,
   "id": "9d506503",
   "metadata": {},
   "outputs": [],
   "source": [
    "listb = lista\n",
    "print(listb)"
   ]
  },
  {
   "cell_type": "code",
   "execution_count": null,
   "id": "ac5c3c06",
   "metadata": {},
   "outputs": [],
   "source": [
    "lista.pop()\n",
    "print(lista)\n",
    "lista.append(9)\n",
    "print(lista)"
   ]
  },
  {
   "cell_type": "code",
   "execution_count": null,
   "id": "f6b244dd",
   "metadata": {},
   "outputs": [],
   "source": [
    "print(listb)"
   ]
  },
  {
   "cell_type": "code",
   "execution_count": null,
   "id": "fe60528e",
   "metadata": {},
   "outputs": [],
   "source": [
    "lista = [2,1,4,3]"
   ]
  },
  {
   "cell_type": "code",
   "execution_count": null,
   "id": "3f0d2850",
   "metadata": {},
   "outputs": [],
   "source": [
    "listb = lista[:]\n",
    "print(listb)"
   ]
  },
  {
   "cell_type": "code",
   "execution_count": null,
   "id": "9b48bfca",
   "metadata": {},
   "outputs": [],
   "source": [
    "lista.pop()\n",
    "print(lista)\n",
    "lista.append(9)\n",
    "print(lista)"
   ]
  },
  {
   "cell_type": "code",
   "execution_count": null,
   "id": "8b7c8b4c",
   "metadata": {},
   "outputs": [],
   "source": [
    "print(listb)"
   ]
  },
  {
   "cell_type": "markdown",
   "id": "89d1f20b",
   "metadata": {},
   "source": [
    "## Tuples\n",
    "Tuples are similar to lists but only big difference is the elements inside a list can be changed but in tuple it cannot be changed. However, sometimes you’ll want to create a list of items that cannot change. Tuples allow you to do just that. Python refers to values that cannot \n",
    "change as immutable, and an immutable list is called a tuple."
   ]
  },
  {
   "cell_type": "code",
   "execution_count": null,
   "id": "e9291af6",
   "metadata": {},
   "outputs": [],
   "source": [
    "dimensions = (200, 50)\n",
    "print(dimensions[0])\n",
    "print(dimensions[1])"
   ]
  },
  {
   "cell_type": "code",
   "execution_count": null,
   "id": "26bf1379",
   "metadata": {},
   "outputs": [],
   "source": [
    "dimensions[0] = 250"
   ]
  },
  {
   "cell_type": "code",
   "execution_count": null,
   "id": "b60b4579",
   "metadata": {},
   "outputs": [],
   "source": [
    "id(dimensions)"
   ]
  },
  {
   "cell_type": "code",
   "execution_count": null,
   "id": "356d5849",
   "metadata": {},
   "outputs": [],
   "source": [
    "dimensions = (250, 50)"
   ]
  },
  {
   "cell_type": "code",
   "execution_count": null,
   "id": "933d9341",
   "metadata": {},
   "outputs": [],
   "source": [
    "dimensions[0]"
   ]
  },
  {
   "cell_type": "code",
   "execution_count": null,
   "id": "af3c48b4",
   "metadata": {},
   "outputs": [],
   "source": [
    "id(dimensions)"
   ]
  },
  {
   "cell_type": "markdown",
   "id": "2756cdaf",
   "metadata": {},
   "source": [
    "## Dictionaries\n",
    "Understanding dictionaries allows you to model a variety of real-world objects more accurately.\n",
    "You’ll be able to store any two kinds of information that can be matched up, such as a list of words and their meanings, a list of people’s names and their phone numbers, etc."
   ]
  },
  {
   "cell_type": "code",
   "execution_count": null,
   "id": "2ec615de",
   "metadata": {},
   "outputs": [],
   "source": [
    "pipe_1 = {'type': \"pre-Insulated\", 'length': 25.5, 'location': (53.55073, 9.99302), 'built year': 2019, }"
   ]
  },
  {
   "cell_type": "code",
   "execution_count": null,
   "id": "fdcc3031",
   "metadata": {},
   "outputs": [],
   "source": [
    "print(pipe_1['type'])\n",
    "print(pipe_1['location'])"
   ]
  },
  {
   "cell_type": "code",
   "execution_count": null,
   "id": "7f159ede",
   "metadata": {},
   "outputs": [],
   "source": [
    "type(pipe_1)"
   ]
  },
  {
   "cell_type": "code",
   "execution_count": null,
   "id": "d018aaeb",
   "metadata": {},
   "outputs": [],
   "source": [
    "type(pipe_1['location'])"
   ]
  },
  {
   "cell_type": "code",
   "execution_count": null,
   "id": "6af7930a",
   "metadata": {},
   "outputs": [],
   "source": [
    "pipe_1['location'][0]"
   ]
  },
  {
   "cell_type": "markdown",
   "id": "3cda071c",
   "metadata": {},
   "source": [
    "### Adding and removeing key-value pairs"
   ]
  },
  {
   "cell_type": "code",
   "execution_count": null,
   "id": "20f20849",
   "metadata": {},
   "outputs": [],
   "source": [
    "pipe_1['failure year'] = 2021"
   ]
  },
  {
   "cell_type": "code",
   "execution_count": null,
   "id": "c08e920c",
   "metadata": {},
   "outputs": [],
   "source": [
    "pipe_1"
   ]
  },
  {
   "cell_type": "code",
   "execution_count": null,
   "id": "ed9782bf",
   "metadata": {},
   "outputs": [],
   "source": [
    "del pipe_1['failure year']"
   ]
  },
  {
   "cell_type": "code",
   "execution_count": null,
   "id": "ac5bd74f",
   "metadata": {},
   "outputs": [],
   "source": [
    "pipe_1"
   ]
  },
  {
   "cell_type": "code",
   "execution_count": null,
   "id": "7aaf9c5e",
   "metadata": {},
   "outputs": [],
   "source": [
    "pipe_1.keys()"
   ]
  },
  {
   "cell_type": "code",
   "execution_count": null,
   "id": "dc511477",
   "metadata": {},
   "outputs": [],
   "source": [
    "pipe_1.values()"
   ]
  },
  {
   "cell_type": "code",
   "execution_count": null,
   "id": "1d4da625",
   "metadata": {},
   "outputs": [],
   "source": [
    "pipe_1.items()"
   ]
  },
  {
   "cell_type": "markdown",
   "id": "8d3e511f",
   "metadata": {},
   "source": [
    "## Sets\n",
    "It’s easy to mistake sets for dictionaries because they’re both wrapped in braces. \n",
    "When you see braces but no key-value pairs, you’re probably looking at a set. Unlike lists and dictionaries, sets do not retain items in any specific order."
   ]
  },
  {
   "cell_type": "code",
   "execution_count": null,
   "id": "89b59731",
   "metadata": {},
   "outputs": [],
   "source": [
    "pipes = {'concrete', 'pre_insulated', 'steel', 'polyethylene', 'concrete'}"
   ]
  },
  {
   "cell_type": "code",
   "execution_count": null,
   "id": "cace88fd",
   "metadata": {},
   "outputs": [],
   "source": [
    "pipes"
   ]
  },
  {
   "cell_type": "markdown",
   "id": "1a4bb4c3",
   "metadata": {},
   "source": [
    "# Exercise 1: Create a dictionationary\n",
    "1- Create a dictionary consist of your personal info. (name, lastname, matriculate number, role, courses, favorit_number, favorit_color) <br>\n",
    "2- Print the Keys of the dictionary <br>\n",
    "3- Print all the information in your dictionary in one line."
   ]
  },
  {
   "cell_type": "code",
   "execution_count": null,
   "id": "4e7b1ba9",
   "metadata": {},
   "outputs": [],
   "source": []
  }
 ],
 "metadata": {
  "interpreter": {
   "hash": "9050ddd67e3bbb42e51beccf30f465bd317ed76acdf5694a495d5b40098d7c7e"
  },
  "kernelspec": {
   "display_name": "Python 3",
   "language": "python",
   "name": "python3"
  },
  "language_info": {
   "codemirror_mode": {
    "name": "ipython",
    "version": 3
   },
   "file_extension": ".py",
   "mimetype": "text/x-python",
   "name": "python",
   "nbconvert_exporter": "python",
   "pygments_lexer": "ipython3",
   "version": "3.7.10"
  }
 },
 "nbformat": 4,
 "nbformat_minor": 5
}
