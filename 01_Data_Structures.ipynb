{
 "cells": [
  {
   "cell_type": "markdown",
   "id": "02984d2f",
   "metadata": {},
   "source": [
    "# A Brief Introduction to Python\n",
    "## Infrastrukturen Engineering\n",
    "## HafenCity Universität Hamburg (HCU)\n",
    "### The University Of The Built Environment And Metropolitan Development\n",
    "\n",
    "## Modul: BIW-M-211-100 Energie-Infrastructur\n",
    "## Instructors:\n",
    "### Prof. Dr.-Ing. Ingo Weidlich\n",
    "### Pakdad Pourbozorgi Langroudi"
   ]
  },
  {
   "cell_type": "markdown",
   "id": "8d6e3369",
   "metadata": {},
   "source": [
    "# Data Structures"
   ]
  },
  {
   "cell_type": "markdown",
   "id": "5edd9ab9",
   "metadata": {},
   "source": [
    "## List\n",
    "A list is a collection of items in a particular order. You can make a list that includes the letters of the alphabet, the digits from 0–9, or the names of all the people in your family. You can put anything you want into a list, and the items in your list don’t have to be related in any particular way."
   ]
  },
  {
   "cell_type": "code",
   "execution_count": 4,
   "id": "dc6a1cfe",
   "metadata": {},
   "outputs": [],
   "source": [
    "a_list = [1, \"Python\", 5.4, \"Language\"]"
   ]
  },
  {
   "cell_type": "code",
   "execution_count": 5,
   "id": "c618f9c5",
   "metadata": {},
   "outputs": [
    {
     "name": "stdout",
     "output_type": "stream",
     "text": [
      "[1, 'Python', 5.4, 'Language']\n"
     ]
    }
   ],
   "source": [
    "print(a_list)"
   ]
  },
  {
   "cell_type": "code",
   "execution_count": 6,
   "id": "c7b947ac",
   "metadata": {},
   "outputs": [
    {
     "name": "stdout",
     "output_type": "stream",
     "text": [
      "['concrete', 'pe', 'steel', 'pre_insulated']\n"
     ]
    }
   ],
   "source": [
    "pipes = ['concrete', 'pe', 'steel', 'pre_insulated']\n",
    "print(pipes)"
   ]
  },
  {
   "cell_type": "markdown",
   "id": "6e24f573",
   "metadata": {},
   "source": [
    "### Accessing Elements in a List"
   ]
  },
  {
   "cell_type": "code",
   "execution_count": 7,
   "id": "c41696a6",
   "metadata": {},
   "outputs": [
    {
     "name": "stdout",
     "output_type": "stream",
     "text": [
      "concrete\n",
      "pe\n",
      "steel\n",
      "pre_insulated\n"
     ]
    }
   ],
   "source": [
    "print(pipes[0])\n",
    "print(pipes[1])\n",
    "print(pipes[2])\n",
    "print(pipes[3])"
   ]
  },
  {
   "cell_type": "code",
   "execution_count": 13,
   "id": "565e1e4b",
   "metadata": {},
   "outputs": [
    {
     "name": "stdout",
     "output_type": "stream",
     "text": [
      "In this course, our focus will be on Pre_Insulated pipes.\n"
     ]
    }
   ],
   "source": [
    "message = f\"In this course, our focus will be on {pipes[3].title()} pipes.\"\n",
    "print(message)"
   ]
  },
  {
   "cell_type": "markdown",
   "id": "d38247e0",
   "metadata": {},
   "source": [
    "### Modifying Elements in a List"
   ]
  },
  {
   "cell_type": "code",
   "execution_count": 14,
   "id": "af516bcb",
   "metadata": {},
   "outputs": [
    {
     "name": "stdout",
     "output_type": "stream",
     "text": [
      "['concrete', 'polyethylene', 'steel', 'pre_insulated']\n"
     ]
    }
   ],
   "source": [
    "pipes[1] = \"polyethylene\"\n",
    "print(pipes)"
   ]
  },
  {
   "cell_type": "markdown",
   "id": "bed42bc6",
   "metadata": {},
   "source": [
    "### Adding Elements to a List\n",
    "Appending and Inserting\n"
   ]
  },
  {
   "cell_type": "code",
   "execution_count": 15,
   "id": "69600452",
   "metadata": {},
   "outputs": [],
   "source": [
    "pipes.append(\"hdpe\")"
   ]
  },
  {
   "cell_type": "code",
   "execution_count": 16,
   "id": "1c60639c",
   "metadata": {},
   "outputs": [
    {
     "name": "stdout",
     "output_type": "stream",
     "text": [
      "['concrete', 'polyethylene', 'steel', 'pre_insulated', 'hdpe']\n"
     ]
    }
   ],
   "source": [
    "print(pipes)"
   ]
  },
  {
   "cell_type": "code",
   "execution_count": 17,
   "id": "026f623a",
   "metadata": {},
   "outputs": [],
   "source": [
    "pipes.insert(0, 'pvc')"
   ]
  },
  {
   "cell_type": "code",
   "execution_count": 18,
   "id": "49b06df9",
   "metadata": {},
   "outputs": [
    {
     "name": "stdout",
     "output_type": "stream",
     "text": [
      "['pvc', 'concrete', 'polyethylene', 'steel', 'pre_insulated', 'hdpe']\n"
     ]
    }
   ],
   "source": [
    "print(pipes)"
   ]
  },
  {
   "cell_type": "markdown",
   "id": "acafbda4",
   "metadata": {},
   "source": [
    "### Removing Eelements from a List\n",
    "del statement, pop() method and remove() method"
   ]
  },
  {
   "cell_type": "code",
   "execution_count": 19,
   "id": "0eae5ae1",
   "metadata": {},
   "outputs": [
    {
     "name": "stdout",
     "output_type": "stream",
     "text": [
      "['concrete', 'polyethylene', 'steel', 'pre_insulated', 'hdpe']\n"
     ]
    }
   ],
   "source": [
    "del pipes[0]\n",
    "print(pipes)"
   ]
  },
  {
   "cell_type": "code",
   "execution_count": 20,
   "id": "aa9410b2",
   "metadata": {},
   "outputs": [
    {
     "data": {
      "text/plain": [
       "['concrete', 'polyethylene', 'steel', 'pre_insulated', 'hdpe']"
      ]
     },
     "execution_count": 20,
     "metadata": {},
     "output_type": "execute_result"
    }
   ],
   "source": [
    "pipes"
   ]
  },
  {
   "cell_type": "code",
   "execution_count": 21,
   "id": "278ad05e",
   "metadata": {},
   "outputs": [],
   "source": [
    "poped_element = pipes.pop()"
   ]
  },
  {
   "cell_type": "code",
   "execution_count": 22,
   "id": "4df71c60",
   "metadata": {},
   "outputs": [
    {
     "data": {
      "text/plain": [
       "['concrete', 'polyethylene', 'steel', 'pre_insulated']"
      ]
     },
     "execution_count": 22,
     "metadata": {},
     "output_type": "execute_result"
    }
   ],
   "source": [
    "pipes"
   ]
  },
  {
   "cell_type": "code",
   "execution_count": 23,
   "id": "8b3e1bd3",
   "metadata": {},
   "outputs": [
    {
     "data": {
      "text/plain": [
       "'hdpe'"
      ]
     },
     "execution_count": 23,
     "metadata": {},
     "output_type": "execute_result"
    }
   ],
   "source": [
    "poped_element"
   ]
  },
  {
   "cell_type": "code",
   "execution_count": 24,
   "id": "0c58a69d",
   "metadata": {},
   "outputs": [
    {
     "data": {
      "text/plain": [
       "'steel'"
      ]
     },
     "execution_count": 24,
     "metadata": {},
     "output_type": "execute_result"
    }
   ],
   "source": [
    "pipes.pop(2)"
   ]
  },
  {
   "cell_type": "code",
   "execution_count": 25,
   "id": "311ed332",
   "metadata": {},
   "outputs": [
    {
     "data": {
      "text/plain": [
       "['concrete', 'polyethylene', 'pre_insulated']"
      ]
     },
     "execution_count": 25,
     "metadata": {},
     "output_type": "execute_result"
    }
   ],
   "source": [
    "pipes"
   ]
  },
  {
   "cell_type": "code",
   "execution_count": 26,
   "id": "292682d6",
   "metadata": {},
   "outputs": [],
   "source": [
    "pipes.remove('concrete')"
   ]
  },
  {
   "cell_type": "code",
   "execution_count": 27,
   "id": "6305db00",
   "metadata": {},
   "outputs": [
    {
     "data": {
      "text/plain": [
       "['polyethylene', 'pre_insulated']"
      ]
     },
     "execution_count": 27,
     "metadata": {},
     "output_type": "execute_result"
    }
   ],
   "source": [
    "pipes"
   ]
  },
  {
   "cell_type": "code",
   "execution_count": 28,
   "id": "73a980c2",
   "metadata": {},
   "outputs": [],
   "source": [
    "pipes = ['concrete', 'polyethylene', 'steel', 'pre_insulated', 'concrete']"
   ]
  },
  {
   "cell_type": "code",
   "execution_count": 29,
   "id": "5b92cc81",
   "metadata": {},
   "outputs": [],
   "source": [
    "pipes.remove('concrete')"
   ]
  },
  {
   "cell_type": "code",
   "execution_count": 30,
   "id": "8f19e2ae",
   "metadata": {},
   "outputs": [
    {
     "data": {
      "text/plain": [
       "['polyethylene', 'steel', 'pre_insulated', 'concrete']"
      ]
     },
     "execution_count": 30,
     "metadata": {},
     "output_type": "execute_result"
    }
   ],
   "source": [
    "pipes"
   ]
  },
  {
   "cell_type": "markdown",
   "id": "8417dc85",
   "metadata": {},
   "source": [
    "### Organizing a List"
   ]
  },
  {
   "cell_type": "code",
   "execution_count": 31,
   "id": "5fc63c28",
   "metadata": {},
   "outputs": [
    {
     "name": "stdout",
     "output_type": "stream",
     "text": [
      "['concrete', 'polyethylene', 'pre_insulated', 'steel']\n"
     ]
    }
   ],
   "source": [
    "print(sorted(pipes))"
   ]
  },
  {
   "cell_type": "code",
   "execution_count": 32,
   "id": "4973f034",
   "metadata": {},
   "outputs": [
    {
     "name": "stdout",
     "output_type": "stream",
     "text": [
      "['polyethylene', 'steel', 'pre_insulated', 'concrete']\n"
     ]
    }
   ],
   "source": [
    "print(pipes)"
   ]
  },
  {
   "cell_type": "code",
   "execution_count": 33,
   "id": "0e257b4c",
   "metadata": {},
   "outputs": [
    {
     "name": "stdout",
     "output_type": "stream",
     "text": [
      "['concrete', 'polyethylene', 'pre_insulated', 'steel']\n"
     ]
    }
   ],
   "source": [
    "pipes.sort()\n",
    "print(pipes)"
   ]
  },
  {
   "cell_type": "code",
   "execution_count": 35,
   "id": "94b1c23d",
   "metadata": {},
   "outputs": [
    {
     "name": "stdout",
     "output_type": "stream",
     "text": [
      "['steel', 'pre_insulated', 'polyethylene', 'concrete']\n"
     ]
    }
   ],
   "source": [
    "pipes.sort(reverse=True)\n",
    "print(pipes)"
   ]
  },
  {
   "cell_type": "code",
   "execution_count": 36,
   "id": "cd501683",
   "metadata": {},
   "outputs": [
    {
     "name": "stdout",
     "output_type": "stream",
     "text": [
      "['concrete', 'polyethylene', 'pre_insulated', 'steel']\n"
     ]
    }
   ],
   "source": [
    "pipes.reverse()\n",
    "print(pipes)"
   ]
  },
  {
   "cell_type": "code",
   "execution_count": 37,
   "id": "b6eeb25a",
   "metadata": {},
   "outputs": [
    {
     "data": {
      "text/plain": [
       "4"
      ]
     },
     "execution_count": 37,
     "metadata": {},
     "output_type": "execute_result"
    }
   ],
   "source": [
    "# The length of a List\n",
    "len(pipes)"
   ]
  },
  {
   "cell_type": "markdown",
   "id": "f94ea18f",
   "metadata": {},
   "source": [
    "### Slicing"
   ]
  },
  {
   "cell_type": "code",
   "execution_count": 39,
   "id": "3c417a0f",
   "metadata": {},
   "outputs": [],
   "source": [
    "nums = [0,1,2,3,4,5,6,7,8,9]"
   ]
  },
  {
   "cell_type": "code",
   "execution_count": 43,
   "id": "1885016a",
   "metadata": {},
   "outputs": [
    {
     "name": "stdout",
     "output_type": "stream",
     "text": [
      "[0, 1, 2, 3]\n",
      "[4, 5, 6, 7, 8, 9]\n"
     ]
    }
   ],
   "source": [
    "print(nums[0:4])\n",
    "print(nums[4:])"
   ]
  },
  {
   "cell_type": "code",
   "execution_count": 50,
   "id": "d0fa9284",
   "metadata": {},
   "outputs": [
    {
     "data": {
      "text/plain": [
       "[0, 3, 6]"
      ]
     },
     "execution_count": 50,
     "metadata": {},
     "output_type": "execute_result"
    }
   ],
   "source": [
    "nums[:9:3]"
   ]
  },
  {
   "cell_type": "code",
   "execution_count": 51,
   "id": "f76442c7",
   "metadata": {},
   "outputs": [
    {
     "name": "stdout",
     "output_type": "stream",
     "text": [
      "0\n",
      "9\n"
     ]
    }
   ],
   "source": [
    "print(min(nums))\n",
    "print(max(nums))"
   ]
  },
  {
   "cell_type": "code",
   "execution_count": 52,
   "id": "f0b59aba",
   "metadata": {},
   "outputs": [
    {
     "data": {
      "text/plain": [
       "[1, 2, 3, 5, 4, 7]"
      ]
     },
     "execution_count": 52,
     "metadata": {},
     "output_type": "execute_result"
    }
   ],
   "source": [
    "# Concatenating Lists\n",
    "[1,2,3] + [5,4,7]"
   ]
  },
  {
   "cell_type": "markdown",
   "id": "04abdd4a",
   "metadata": {},
   "source": [
    "### Copying a list"
   ]
  },
  {
   "cell_type": "code",
   "execution_count": 53,
   "id": "45a91b97",
   "metadata": {},
   "outputs": [],
   "source": [
    "lista= [2,1,4,3]"
   ]
  },
  {
   "cell_type": "code",
   "execution_count": 54,
   "id": "9d506503",
   "metadata": {},
   "outputs": [
    {
     "name": "stdout",
     "output_type": "stream",
     "text": [
      "[2, 1, 4, 3]\n"
     ]
    }
   ],
   "source": [
    "listb = lista\n",
    "print(listb)"
   ]
  },
  {
   "cell_type": "code",
   "execution_count": 55,
   "id": "ac5c3c06",
   "metadata": {},
   "outputs": [
    {
     "name": "stdout",
     "output_type": "stream",
     "text": [
      "[2, 1, 4]\n",
      "[2, 1, 4, 9]\n"
     ]
    }
   ],
   "source": [
    "lista.pop()\n",
    "print(lista)\n",
    "lista.append(9)\n",
    "print(lista)"
   ]
  },
  {
   "cell_type": "code",
   "execution_count": 56,
   "id": "f6b244dd",
   "metadata": {},
   "outputs": [
    {
     "name": "stdout",
     "output_type": "stream",
     "text": [
      "[2, 1, 4, 9]\n"
     ]
    }
   ],
   "source": [
    "print(listb)"
   ]
  },
  {
   "cell_type": "code",
   "execution_count": 57,
   "id": "fe60528e",
   "metadata": {},
   "outputs": [],
   "source": [
    "lista = [2,1,4,3]"
   ]
  },
  {
   "cell_type": "code",
   "execution_count": 58,
   "id": "3f0d2850",
   "metadata": {},
   "outputs": [
    {
     "name": "stdout",
     "output_type": "stream",
     "text": [
      "[2, 1, 4, 3]\n"
     ]
    }
   ],
   "source": [
    "listb = lista[:]\n",
    "print(listb)"
   ]
  },
  {
   "cell_type": "code",
   "execution_count": 60,
   "id": "9b48bfca",
   "metadata": {},
   "outputs": [
    {
     "name": "stdout",
     "output_type": "stream",
     "text": [
      "[2, 1, 4]\n",
      "[2, 1, 4, 9]\n"
     ]
    }
   ],
   "source": [
    "lista.pop()\n",
    "print(lista)\n",
    "lista.append(9)\n",
    "print(lista)"
   ]
  },
  {
   "cell_type": "code",
   "execution_count": 61,
   "id": "8b7c8b4c",
   "metadata": {},
   "outputs": [
    {
     "name": "stdout",
     "output_type": "stream",
     "text": [
      "[2, 1, 4, 3]\n"
     ]
    }
   ],
   "source": [
    "print(listb)"
   ]
  },
  {
   "cell_type": "markdown",
   "id": "89d1f20b",
   "metadata": {},
   "source": [
    "## Tuples\n",
    "Tuples are similar to lists but only big difference is the elements inside a list can be changed but in tuple it cannot be changed. However, sometimes you’ll want to create a list of items that cannot change. Tuples allow you to do just that. Python refers to values that cannot \n",
    "change as immutable, and an immutable list is called a tuple."
   ]
  },
  {
   "cell_type": "code",
   "execution_count": 62,
   "id": "e9291af6",
   "metadata": {},
   "outputs": [
    {
     "name": "stdout",
     "output_type": "stream",
     "text": [
      "200\n",
      "50\n"
     ]
    }
   ],
   "source": [
    "dimensions = (200, 50)\n",
    "print(dimensions[0])\n",
    "print(dimensions[1])"
   ]
  },
  {
   "cell_type": "code",
   "execution_count": 63,
   "id": "26bf1379",
   "metadata": {},
   "outputs": [
    {
     "ename": "TypeError",
     "evalue": "'tuple' object does not support item assignment",
     "output_type": "error",
     "traceback": [
      "\u001b[1;31m---------------------------------------------------------------------------\u001b[0m",
      "\u001b[1;31mTypeError\u001b[0m                                 Traceback (most recent call last)",
      "\u001b[1;32m<ipython-input-63-00271e61a311>\u001b[0m in \u001b[0;36m<module>\u001b[1;34m\u001b[0m\n\u001b[1;32m----> 1\u001b[1;33m \u001b[0mdimensions\u001b[0m\u001b[1;33m[\u001b[0m\u001b[1;36m0\u001b[0m\u001b[1;33m]\u001b[0m \u001b[1;33m=\u001b[0m \u001b[1;36m250\u001b[0m\u001b[1;33m\u001b[0m\u001b[1;33m\u001b[0m\u001b[0m\n\u001b[0m",
      "\u001b[1;31mTypeError\u001b[0m: 'tuple' object does not support item assignment"
     ]
    }
   ],
   "source": [
    "dimensions[0] = 250"
   ]
  },
  {
   "cell_type": "code",
   "execution_count": 64,
   "id": "b60b4579",
   "metadata": {},
   "outputs": [
    {
     "data": {
      "text/plain": [
       "2471018401736"
      ]
     },
     "execution_count": 64,
     "metadata": {},
     "output_type": "execute_result"
    }
   ],
   "source": [
    "id(dimensions)"
   ]
  },
  {
   "cell_type": "code",
   "execution_count": 65,
   "id": "356d5849",
   "metadata": {},
   "outputs": [],
   "source": [
    "dimensions = (250, 50)"
   ]
  },
  {
   "cell_type": "code",
   "execution_count": 66,
   "id": "933d9341",
   "metadata": {},
   "outputs": [
    {
     "data": {
      "text/plain": [
       "250"
      ]
     },
     "execution_count": 66,
     "metadata": {},
     "output_type": "execute_result"
    }
   ],
   "source": [
    "dimensions[0]"
   ]
  },
  {
   "cell_type": "code",
   "execution_count": 67,
   "id": "af3c48b4",
   "metadata": {},
   "outputs": [
    {
     "data": {
      "text/plain": [
       "2471018512072"
      ]
     },
     "execution_count": 67,
     "metadata": {},
     "output_type": "execute_result"
    }
   ],
   "source": [
    "id(dimensions)"
   ]
  },
  {
   "cell_type": "markdown",
   "id": "2756cdaf",
   "metadata": {},
   "source": [
    "## Dictionaries\n",
    "Understanding dictionaries allows you to model a variety of real-world objects more accurately.\n",
    "You’ll be able to store any two kinds of information that can be matched up, such as a list of words and their meanings, a list of people’s names and their phone numbers, etc."
   ]
  },
  {
   "cell_type": "code",
   "execution_count": 68,
   "id": "2ec615de",
   "metadata": {},
   "outputs": [],
   "source": [
    "pipe_1 = {'type': \"pre-Insulated\", 'length': 25.5, 'location': (53.55073, 9.99302), 'built year': 2019, }"
   ]
  },
  {
   "cell_type": "code",
   "execution_count": 69,
   "id": "fdcc3031",
   "metadata": {},
   "outputs": [
    {
     "name": "stdout",
     "output_type": "stream",
     "text": [
      "pre-Insulated\n",
      "(53.55073, 9.99302)\n"
     ]
    }
   ],
   "source": [
    "print(pipe_1['type'])\n",
    "print(pipe_1['location'])"
   ]
  },
  {
   "cell_type": "code",
   "execution_count": 70,
   "id": "7f159ede",
   "metadata": {},
   "outputs": [
    {
     "data": {
      "text/plain": [
       "dict"
      ]
     },
     "execution_count": 70,
     "metadata": {},
     "output_type": "execute_result"
    }
   ],
   "source": [
    "type(pipe_1)"
   ]
  },
  {
   "cell_type": "code",
   "execution_count": 71,
   "id": "d018aaeb",
   "metadata": {},
   "outputs": [
    {
     "data": {
      "text/plain": [
       "tuple"
      ]
     },
     "execution_count": 71,
     "metadata": {},
     "output_type": "execute_result"
    }
   ],
   "source": [
    "type(pipe_1['location'])"
   ]
  },
  {
   "cell_type": "code",
   "execution_count": 72,
   "id": "6af7930a",
   "metadata": {},
   "outputs": [
    {
     "data": {
      "text/plain": [
       "53.55073"
      ]
     },
     "execution_count": 72,
     "metadata": {},
     "output_type": "execute_result"
    }
   ],
   "source": [
    "pipe_1['location'][0]"
   ]
  },
  {
   "cell_type": "markdown",
   "id": "3cda071c",
   "metadata": {},
   "source": [
    "### Adding and removeing key-value pairs"
   ]
  },
  {
   "cell_type": "code",
   "execution_count": 73,
   "id": "20f20849",
   "metadata": {},
   "outputs": [],
   "source": [
    "pipe_1['failure year'] = 2021"
   ]
  },
  {
   "cell_type": "code",
   "execution_count": 74,
   "id": "c08e920c",
   "metadata": {},
   "outputs": [
    {
     "data": {
      "text/plain": [
       "{'type': 'pre-Insulated',\n",
       " 'length': 25.5,\n",
       " 'location': (53.55073, 9.99302),\n",
       " 'built year': 2019,\n",
       " 'failure year': 2021}"
      ]
     },
     "execution_count": 74,
     "metadata": {},
     "output_type": "execute_result"
    }
   ],
   "source": [
    "pipe_1"
   ]
  },
  {
   "cell_type": "code",
   "execution_count": 75,
   "id": "ed9782bf",
   "metadata": {},
   "outputs": [],
   "source": [
    "del pipe_1['failure year']"
   ]
  },
  {
   "cell_type": "code",
   "execution_count": 76,
   "id": "ac5bd74f",
   "metadata": {},
   "outputs": [
    {
     "data": {
      "text/plain": [
       "{'type': 'pre-Insulated',\n",
       " 'length': 25.5,\n",
       " 'location': (53.55073, 9.99302),\n",
       " 'built year': 2019}"
      ]
     },
     "execution_count": 76,
     "metadata": {},
     "output_type": "execute_result"
    }
   ],
   "source": [
    "pipe_1"
   ]
  },
  {
   "cell_type": "code",
   "execution_count": 77,
   "id": "7aaf9c5e",
   "metadata": {},
   "outputs": [
    {
     "data": {
      "text/plain": [
       "dict_keys(['type', 'length', 'location', 'built year'])"
      ]
     },
     "execution_count": 77,
     "metadata": {},
     "output_type": "execute_result"
    }
   ],
   "source": [
    "pipe_1.keys()"
   ]
  },
  {
   "cell_type": "code",
   "execution_count": 78,
   "id": "dc511477",
   "metadata": {},
   "outputs": [
    {
     "data": {
      "text/plain": [
       "dict_values(['pre-Insulated', 25.5, (53.55073, 9.99302), 2019])"
      ]
     },
     "execution_count": 78,
     "metadata": {},
     "output_type": "execute_result"
    }
   ],
   "source": [
    "pipe_1.values()"
   ]
  },
  {
   "cell_type": "code",
   "execution_count": 79,
   "id": "1d4da625",
   "metadata": {},
   "outputs": [
    {
     "data": {
      "text/plain": [
       "dict_items([('type', 'pre-Insulated'), ('length', 25.5), ('location', (53.55073, 9.99302)), ('built year', 2019)])"
      ]
     },
     "execution_count": 79,
     "metadata": {},
     "output_type": "execute_result"
    }
   ],
   "source": [
    "pipe_1.items()"
   ]
  },
  {
   "cell_type": "markdown",
   "id": "8d3e511f",
   "metadata": {},
   "source": [
    "## Sets\n",
    "It’s easy to mistake sets for dictionaries because they’re both wrapped in braces. \n",
    "When you see braces but no key-value pairs, you’re probably looking at a set. Unlike lists and dictionaries, sets do not retain items in any specific order."
   ]
  },
  {
   "cell_type": "code",
   "execution_count": 80,
   "id": "89b59731",
   "metadata": {},
   "outputs": [],
   "source": [
    "pipes = {'concrete', 'pre_insulated', 'steel', 'polyethylene', 'concrete'}"
   ]
  },
  {
   "cell_type": "code",
   "execution_count": 81,
   "id": "cace88fd",
   "metadata": {},
   "outputs": [
    {
     "data": {
      "text/plain": [
       "{'concrete', 'polyethylene', 'pre_insulated', 'steel'}"
      ]
     },
     "execution_count": 81,
     "metadata": {},
     "output_type": "execute_result"
    }
   ],
   "source": [
    "pipes"
   ]
  },
  {
   "cell_type": "markdown",
   "id": "1a4bb4c3",
   "metadata": {},
   "source": [
    "# Exercise 1: Create a dictionationary\n",
    "1- Create a dictionary consist of your personal info. (name, lastname, matriculate number, role, courses, favorit_number, favorit_color) <br>\n",
    "2- Print the Keys of the dictionary <br>\n",
    "3- Print all the information in your dictionary in one line."
   ]
  },
  {
   "cell_type": "code",
   "execution_count": null,
   "id": "4e7b1ba9",
   "metadata": {},
   "outputs": [],
   "source": []
  }
 ],
 "metadata": {
  "interpreter": {
   "hash": "9050ddd67e3bbb42e51beccf30f465bd317ed76acdf5694a495d5b40098d7c7e"
  },
  "kernelspec": {
   "display_name": "Python 3",
   "language": "python",
   "name": "python3"
  },
  "language_info": {
   "codemirror_mode": {
    "name": "ipython",
    "version": 3
   },
   "file_extension": ".py",
   "mimetype": "text/x-python",
   "name": "python",
   "nbconvert_exporter": "python",
   "pygments_lexer": "ipython3",
   "version": "3.7.10"
  }
 },
 "nbformat": 4,
 "nbformat_minor": 5
}
