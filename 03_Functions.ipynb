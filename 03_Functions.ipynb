{
 "cells": [
  {
   "cell_type": "markdown",
   "metadata": {},
   "source": [
    "# A Brief Introduction to Python\n",
    "## Infrastrukturen Engineering\n",
    "## HafenCity Universität Hamburg (HCU)\n",
    "### The University Of The Built Environment And Metropolitan Development\n",
    "\n",
    "## Modul: BIW-M-211-100 Energie-Infrastructur\n",
    "## Instructors:\n",
    "### Prof. Dr.-Ing. Ingo Weidlich\n",
    "### Pakdad Pourbozorgi Langroudi"
   ]
  },
  {
   "cell_type": "code",
   "execution_count": null,
   "metadata": {},
   "outputs": [],
   "source": [
    "try:\n",
    "  from google.colab import drive\n",
    "  IN_COLAB=True\n",
    "except:\n",
    "  IN_COLAB=False\n",
    "\n",
    "if IN_COLAB:\n",
    "  print(\"We're running Colab\")\n",
    "\n",
    "if IN_COLAB:\n",
    "  # Mount the Google Drive at mount\n",
    "  mount='/content/gdrive'\n",
    "  print(\"Colab: mounting Google drive on \", mount)\n",
    "\n",
    "  drive.mount(mount)\n",
    "\n",
    "  # Switch to the directory on the Google Drive that you want to use\n",
    "  import os\n",
    "  drive_root = mount + \"/MyDrive/MyCourses\"\n",
    "  \n",
    "  # Create drive_root if it doesn't exist\n",
    "  create_drive_root = True\n",
    "  if create_drive_root:\n",
    "    print(\"\\nColab: making sure \", drive_root, \" exists.\")\n",
    "    os.makedirs(drive_root, exist_ok=True)\n",
    "  \n",
    "  # Change to the directory\n",
    "  print(\"\\nColab: Changing directory to \", drive_root)\n",
    "  %cd $drive_root\n",
    "  if os.path.isdir(drive_root+'/Energieinfrastruktur'):\n",
    "    drive_root = drive_root+'/Energieinfrastruktur'\n",
    "    %cd $drive_root\n",
    "    ! git pull\n",
    "  else:\n",
    "    ! git clone https://github.com/pakdad/Energieinfrastruktur.git\n",
    "    drive_root = drive_root+'/Energieinfrastruktur'\n",
    "    %cd $drive_root"
   ]
  },
  {
   "cell_type": "markdown",
   "metadata": {},
   "source": [
    "# Functions"
   ]
  },
  {
   "cell_type": "markdown",
   "metadata": {},
   "source": [
    "## Defining a Function"
   ]
  },
  {
   "cell_type": "code",
   "execution_count": null,
   "metadata": {},
   "outputs": [],
   "source": [
    "# def funcname(arg1, arg2,... argN):\n",
    "#     ''' Document String'''\n",
    "#     statements\n",
    "#     return <value>"
   ]
  },
  {
   "cell_type": "code",
   "execution_count": null,
   "metadata": {},
   "outputs": [],
   "source": [
    "def pipe_info():\n",
    "    \"\"\"Discribe a simple pipe.\"\"\"\n",
    "    print(\"This is a pipe.\")"
   ]
  },
  {
   "cell_type": "code",
   "execution_count": null,
   "metadata": {},
   "outputs": [],
   "source": [
    "pipe_info()"
   ]
  },
  {
   "cell_type": "markdown",
   "metadata": {},
   "source": [
    "## Arguments"
   ]
  },
  {
   "cell_type": "code",
   "execution_count": null,
   "metadata": {},
   "outputs": [],
   "source": [
    "def pipe_info(pipe_type):\n",
    "    \"\"\"Discribe a simple pipe.\"\"\"\n",
    "    print(f\"This is a {pipe_type} pipe.\")"
   ]
  },
  {
   "cell_type": "code",
   "execution_count": null,
   "metadata": {},
   "outputs": [],
   "source": [
    "pipe_info(\"KMR\")"
   ]
  },
  {
   "cell_type": "markdown",
   "metadata": {},
   "source": [
    "## Positional Arguments\n",
    "Order matters in positional arguments"
   ]
  },
  {
   "cell_type": "code",
   "execution_count": null,
   "metadata": {},
   "outputs": [],
   "source": [
    "def pipe_info(pipe_type, ID):\n",
    "    \"\"\"Discribe a simple pipe.\"\"\"\n",
    "    print(f\"This is a {pipe_type} pipe.\")\n",
    "    print(f\"The pipe's ID is: {ID}\")"
   ]
  },
  {
   "cell_type": "code",
   "execution_count": null,
   "metadata": {},
   "outputs": [],
   "source": [
    "pipe_info(\"KMR\", 20190807)"
   ]
  },
  {
   "cell_type": "markdown",
   "metadata": {},
   "source": [
    "## Keyword Arguments\n",
    "A keyword argument is a name-value pair that you pass to a function."
   ]
  },
  {
   "cell_type": "code",
   "execution_count": null,
   "metadata": {},
   "outputs": [],
   "source": [
    "pipe_info(pipe_type=\"KMR\", ID=20190807)"
   ]
  },
  {
   "cell_type": "code",
   "execution_count": null,
   "metadata": {},
   "outputs": [],
   "source": [
    "pipe_info(ID=20190807, pipe_type=\"KMR\")"
   ]
  },
  {
   "cell_type": "markdown",
   "metadata": {},
   "source": [
    "## Default Values"
   ]
  },
  {
   "cell_type": "code",
   "execution_count": null,
   "metadata": {},
   "outputs": [],
   "source": [
    "def pipe_info(pipe_type, ID=10000000):\n",
    "    \"\"\"Discribe a simple pipe.\"\"\"\n",
    "    print(f\"This is a {pipe_type} pipe.\")\n",
    "    print(f\"The pipe's ID is: {ID}\")"
   ]
  },
  {
   "cell_type": "code",
   "execution_count": null,
   "metadata": {},
   "outputs": [],
   "source": [
    "pipe_info(\"KMR\")"
   ]
  },
  {
   "cell_type": "markdown",
   "metadata": {},
   "source": [
    "## Return Values"
   ]
  },
  {
   "cell_type": "code",
   "execution_count": null,
   "metadata": {},
   "outputs": [],
   "source": [
    "def pipe_info(pipe_type, ID=10000000):\n",
    "    \"\"\"Discribe a simple pipe.\"\"\"\n",
    "    description = f\"This is a {pipe_type} pipe with the ID of {ID}.\"\n",
    "    return description"
   ]
  },
  {
   "cell_type": "code",
   "execution_count": null,
   "metadata": {},
   "outputs": [],
   "source": [
    "pipe_1 = pipe_info(ID=20190807, pipe_type=\"KMR\")\n",
    "print(pipe_1)"
   ]
  },
  {
   "cell_type": "markdown",
   "metadata": {},
   "source": [
    "## Making an Argument Optional"
   ]
  },
  {
   "cell_type": "code",
   "execution_count": null,
   "metadata": {},
   "outputs": [],
   "source": [
    "def pipe_info(pipe_type, failure_event, ID=10000000):\n",
    "    \"\"\"Discribe a simple pipe.\"\"\"\n",
    "    description = f\"This is a {pipe_type} pipe with the ID of {ID}.\\nThe pipe is damaged on {failure_event}.\"\n",
    "    return description"
   ]
  },
  {
   "cell_type": "code",
   "execution_count": null,
   "metadata": {},
   "outputs": [],
   "source": [
    "pipe_2 = pipe_info(ID=20190807, pipe_type=\"KMR\", failure_event=2021)\n",
    "print(pipe_2)"
   ]
  },
  {
   "cell_type": "code",
   "execution_count": null,
   "metadata": {},
   "outputs": [],
   "source": [
    "def pipe_info(pipe_type, ID=10000000,  failure_event=''):\n",
    "    \"\"\"Display a simple pipe.\"\"\"\n",
    "    if failure_event:\n",
    "        description = f\"This is a {pipe_type} pipe with the ID of {ID}.\\nThe pipe is damaged on {failure_event}.\"\n",
    "    else:\n",
    "        description = f\"This is a {pipe_type} pipe with the ID of {ID}.\"\n",
    "    return description"
   ]
  },
  {
   "cell_type": "code",
   "execution_count": null,
   "metadata": {},
   "outputs": [],
   "source": [
    "pipe_3 = pipe_info(ID=20190807, pipe_type=\"KMR\", failure_event=2021)\n",
    "print(pipe_3)"
   ]
  },
  {
   "cell_type": "markdown",
   "metadata": {},
   "source": [
    "## Arbitrary Number of Arguments"
   ]
  },
  {
   "cell_type": "code",
   "execution_count": null,
   "metadata": {},
   "outputs": [],
   "source": [
    "def inventory_info(*pipes):\n",
    "    \"\"\"Print the list of pipes in inventory.\"\"\"\n",
    "    print(\"Generating a new inventory witht the following pipes:\")\n",
    "    for pipe in pipes:\n",
    "        print(f\"\\t- {pipe}\")"
   ]
  },
  {
   "cell_type": "code",
   "execution_count": null,
   "metadata": {},
   "outputs": [],
   "source": [
    "inventory_info('pvc', 'concrete', 'polyethylene', 'steel', 'pre_insulated', 'hdpe')"
   ]
  },
  {
   "cell_type": "markdown",
   "metadata": {},
   "source": [
    "## Arbitrary Keyword Arguments"
   ]
  },
  {
   "cell_type": "code",
   "execution_count": null,
   "metadata": {},
   "outputs": [],
   "source": [
    "def network_profile(city, **network_info):\n",
    "    \"\"\"Build a dictonary containing everything we know about a network.\"\"\"\n",
    "    network_info['city'] = city\n",
    "    return network_info"
   ]
  },
  {
   "cell_type": "code",
   "execution_count": null,
   "metadata": {},
   "outputs": [],
   "source": [
    "network = network_profile('hamburg', length=75, generation=3, power_plant=\"chp\")\n",
    "print(network)"
   ]
  },
  {
   "cell_type": "markdown",
   "metadata": {},
   "source": [
    "## Storing Your Functions in Modules"
   ]
  },
  {
   "cell_type": "code",
   "execution_count": null,
   "metadata": {},
   "outputs": [],
   "source": [
    "import modules"
   ]
  },
  {
   "cell_type": "markdown",
   "metadata": {},
   "source": [
    "### Function call from modules\n",
    "module_name.function_name()"
   ]
  },
  {
   "cell_type": "code",
   "execution_count": null,
   "metadata": {},
   "outputs": [],
   "source": [
    "pipe_1 = modules.pipe_info(ID=20190807, type=\"KMR\")\n",
    "print(pipe_1)"
   ]
  },
  {
   "cell_type": "markdown",
   "metadata": {},
   "source": [
    "## Importing Specific Functions\n",
    "from module_name import function_name\n",
    "from module_name import function_0, function_1, function_2"
   ]
  },
  {
   "cell_type": "code",
   "execution_count": null,
   "metadata": {},
   "outputs": [],
   "source": [
    "from modules import pipe_info, network_profile"
   ]
  },
  {
   "cell_type": "code",
   "execution_count": null,
   "metadata": {},
   "outputs": [],
   "source": [
    "pipe_1 = pipe_info(ID=20190807, type=\"KMR\")\n",
    "print(pipe_1)"
   ]
  },
  {
   "cell_type": "code",
   "execution_count": null,
   "metadata": {},
   "outputs": [],
   "source": [
    "network = network_profile('hamburg', length=75, generation=3, power_plant=\"chp\")\n",
    "print(network)"
   ]
  },
  {
   "cell_type": "markdown",
   "metadata": {},
   "source": [
    "## Using as to Give a Function an Alias\n",
    "from module_name import function_name as fn"
   ]
  },
  {
   "cell_type": "code",
   "execution_count": null,
   "metadata": {},
   "outputs": [],
   "source": [
    "from modules import pipe_info as p"
   ]
  },
  {
   "cell_type": "code",
   "execution_count": null,
   "metadata": {},
   "outputs": [],
   "source": [
    "pipe_1 = p(ID=20190807, type=\"KMR\")\n",
    "print(pipe_1)"
   ]
  },
  {
   "cell_type": "markdown",
   "metadata": {},
   "source": [
    "## Using as to Give a Module an Alias\n",
    "import module_name as mn"
   ]
  },
  {
   "cell_type": "code",
   "execution_count": null,
   "metadata": {},
   "outputs": [],
   "source": [
    "import modules as mn"
   ]
  },
  {
   "cell_type": "code",
   "execution_count": null,
   "metadata": {},
   "outputs": [],
   "source": [
    "mn.pipe_info(ID=20190807, type=\"KMR\")"
   ]
  },
  {
   "cell_type": "markdown",
   "metadata": {},
   "source": [
    "## Importing All Functions in a Module\n",
    "rom module_name import *"
   ]
  },
  {
   "cell_type": "code",
   "execution_count": null,
   "metadata": {},
   "outputs": [],
   "source": [
    "from modules import *"
   ]
  },
  {
   "cell_type": "code",
   "execution_count": null,
   "metadata": {},
   "outputs": [],
   "source": [
    "pipe_info(ID=20190807, type=\"KMR\")"
   ]
  },
  {
   "cell_type": "markdown",
   "metadata": {},
   "source": [
    "# Exercise 3: Create a function that can ask the input information and return a dictionary with the following informationas follow:\n",
    "name\n",
    "lastname\n",
    "matruculate_number\n",
    "role\n",
    "course\n",
    "favorit_color\n",
    "favorit_number"
   ]
  },
  {
   "cell_type": "code",
   "execution_count": null,
   "metadata": {},
   "outputs": [],
   "source": []
  }
 ],
 "metadata": {
  "interpreter": {
   "hash": "9050ddd67e3bbb42e51beccf30f465bd317ed76acdf5694a495d5b40098d7c7e"
  },
  "kernelspec": {
   "display_name": "Python 3",
   "language": "python",
   "name": "python3"
  },
  "language_info": {
   "codemirror_mode": {
    "name": "ipython",
    "version": 3
   },
   "file_extension": ".py",
   "mimetype": "text/x-python",
   "name": "python",
   "nbconvert_exporter": "python",
   "pygments_lexer": "ipython3",
   "version": "3.7.10"
  }
 },
 "nbformat": 4,
 "nbformat_minor": 2
}
