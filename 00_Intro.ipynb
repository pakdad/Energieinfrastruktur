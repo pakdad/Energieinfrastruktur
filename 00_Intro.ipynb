{
 "cells": [
  {
   "cell_type": "markdown",
   "id": "e80e14fe",
   "metadata": {},
   "source": [
    "# A Brief Introduction to Python\n",
    "## Infrastrukturen Engineering\n",
    "## HafenCity Universität Hamburg (HCU)\n",
    "### The University Of The Built Environment And Metropolitan Development\n",
    "\n",
    "## Modul: BIW-M-211-100 Energie-Infrastructur\n",
    "## Instructors:\n",
    "### Prof. Dr.-Ing. Ingo Weidlich\n",
    "### Pakdad Pourbozorgi Langroudi"
   ]
  },
  {
   "cell_type": "markdown",
   "id": "1f0d690b",
   "metadata": {},
   "source": [
    "# Introduction"
   ]
  },
  {
   "cell_type": "markdown",
   "id": "ae131cde",
   "metadata": {},
   "source": [
    "Python is a modern, robust, high level programming language. It is very easy to pick up even if you are completely new to programming."
   ]
  },
  {
   "cell_type": "markdown",
   "id": "55b24e77",
   "metadata": {},
   "source": [
    "## Variables\n",
    "A name that is used to denote something or a value is called a variable. In python, variables can be declared and values can be assigned to it as follows:\n"
   ]
  },
  {
   "cell_type": "code",
   "execution_count": null,
   "id": "b68a4b3e",
   "metadata": {},
   "outputs": [],
   "source": [
    "x = 2\n",
    "y = 1.8\n",
    "xy = \"Python\""
   ]
  },
  {
   "cell_type": "code",
   "execution_count": null,
   "id": "0b07caa4",
   "metadata": {},
   "outputs": [],
   "source": [
    "print(x+y, xy)"
   ]
  },
  {
   "cell_type": "markdown",
   "id": "38687dd1",
   "metadata": {},
   "source": [
    "### Strings\n",
    "A string is a series of characters. Anything inside quotes is considered \n",
    "a string in Python, and you can use single or double quotes around your \n",
    "strings like this:"
   ]
  },
  {
   "cell_type": "code",
   "execution_count": null,
   "id": "4549d9cc",
   "metadata": {},
   "outputs": [],
   "source": [
    "\"This is a string.\"\n",
    "'This is also a string.'"
   ]
  },
  {
   "cell_type": "code",
   "execution_count": null,
   "id": "84f79f05",
   "metadata": {},
   "outputs": [],
   "source": [
    "'Everyone sais, \"Python is an esay language!\"'"
   ]
  },
  {
   "cell_type": "code",
   "execution_count": null,
   "id": "83a0056d",
   "metadata": {},
   "outputs": [],
   "source": [
    "name = \"albert einstein\""
   ]
  },
  {
   "cell_type": "code",
   "execution_count": null,
   "id": "91ac1506",
   "metadata": {},
   "outputs": [],
   "source": [
    "print(name.title())"
   ]
  },
  {
   "cell_type": "code",
   "execution_count": null,
   "id": "a5efd047",
   "metadata": {},
   "outputs": [],
   "source": [
    "print(name.upper())\n",
    "print(name.lower())"
   ]
  },
  {
   "cell_type": "markdown",
   "id": "d2b230c3",
   "metadata": {},
   "source": []
  },
  {
   "cell_type": "code",
   "execution_count": null,
   "id": "f9a23d31",
   "metadata": {},
   "outputs": [],
   "source": [
    "name_2 = \"Hawkings\""
   ]
  },
  {
   "cell_type": "code",
   "execution_count": null,
   "id": "6debb086",
   "metadata": {},
   "outputs": [],
   "source": [
    "# f-strings\n",
    "print(f\"My favorite physicist is {name_2}\")"
   ]
  },
  {
   "cell_type": "code",
   "execution_count": null,
   "id": "6356b833",
   "metadata": {},
   "outputs": [],
   "source": [
    "# Adding Whitespace to Strings with Tabs or Newlines\n",
    "print(\"Hello World!\")"
   ]
  },
  {
   "cell_type": "code",
   "execution_count": null,
   "id": "18dbe1f0",
   "metadata": {},
   "outputs": [],
   "source": [
    "print(\"Hello\\tWorld!\")"
   ]
  },
  {
   "cell_type": "code",
   "execution_count": null,
   "id": "b49bd9a7",
   "metadata": {},
   "outputs": [],
   "source": [
    "\n",
    "print(\"Hello\\nWorld!\")"
   ]
  },
  {
   "cell_type": "code",
   "execution_count": null,
   "id": "03afb6a7",
   "metadata": {},
   "outputs": [],
   "source": [
    "print(\"Hello\\n\\tWorld!\")"
   ]
  },
  {
   "cell_type": "markdown",
   "id": "4daaae1a",
   "metadata": {},
   "source": [
    "### Numbers\n",
    "Integers and Floats "
   ]
  },
  {
   "cell_type": "code",
   "execution_count": null,
   "id": "500ae9f7",
   "metadata": {},
   "outputs": [],
   "source": [
    "5"
   ]
  },
  {
   "cell_type": "code",
   "execution_count": null,
   "id": "b6bfa9df",
   "metadata": {},
   "outputs": [],
   "source": [
    "type(5)"
   ]
  },
  {
   "cell_type": "code",
   "execution_count": null,
   "id": "f81aa3eb",
   "metadata": {},
   "outputs": [],
   "source": [
    "5.5"
   ]
  },
  {
   "cell_type": "code",
   "execution_count": null,
   "id": "9934e355",
   "metadata": {},
   "outputs": [],
   "source": [
    "type(5.5)"
   ]
  },
  {
   "cell_type": "code",
   "execution_count": null,
   "id": "005b229a",
   "metadata": {},
   "outputs": [],
   "source": [
    "# Underscores in Numbers\n",
    "universe_age = 14_000_000_000"
   ]
  },
  {
   "cell_type": "code",
   "execution_count": null,
   "id": "04037035",
   "metadata": {},
   "outputs": [],
   "source": [
    "print(universe_age)"
   ]
  },
  {
   "cell_type": "code",
   "execution_count": null,
   "id": "7691b8b0",
   "metadata": {},
   "outputs": [],
   "source": [
    "x = 0\n",
    "y = 1\n",
    "z = 2"
   ]
  },
  {
   "cell_type": "code",
   "execution_count": null,
   "id": "d6ba1257",
   "metadata": {},
   "outputs": [],
   "source": [
    "# Multiple Assignment\n",
    "x, y, z = 0, 2, 0"
   ]
  },
  {
   "cell_type": "code",
   "execution_count": null,
   "id": "ee766a4f",
   "metadata": {},
   "outputs": [],
   "source": [
    "# Constants\n",
    "MAX_CONNECTIONS = 5000"
   ]
  },
  {
   "cell_type": "code",
   "execution_count": null,
   "id": "e82a4f73",
   "metadata": {},
   "outputs": [],
   "source": [
    "# This variable is declared for educational purposes\n",
    "x = 1"
   ]
  },
  {
   "cell_type": "markdown",
   "id": "ece097d1",
   "metadata": {},
   "source": [
    "## Operators\n",
    "### Arithmetic Operators\n",
    "| Symbol | Task Performed |\n",
    "|----|---|\n",
    "| +  | Addition |\n",
    "| -  | Subtraction |\n",
    "| /  | division |\n",
    "| %  | mod |\n",
    "| *  | multiplication |\n",
    "| //  | floor division |\n",
    "| **  | to the power of |\n"
   ]
  },
  {
   "cell_type": "code",
   "execution_count": null,
   "id": "4adfac36",
   "metadata": {},
   "outputs": [],
   "source": [
    "2+1"
   ]
  },
  {
   "cell_type": "code",
   "execution_count": null,
   "id": "680e39b6",
   "metadata": {},
   "outputs": [],
   "source": [
    "2-1"
   ]
  },
  {
   "cell_type": "code",
   "execution_count": null,
   "id": "cee06717",
   "metadata": {},
   "outputs": [],
   "source": [
    "2*1"
   ]
  },
  {
   "cell_type": "code",
   "execution_count": null,
   "id": "1ec19b51",
   "metadata": {},
   "outputs": [],
   "source": [
    "1/2"
   ]
  },
  {
   "cell_type": "code",
   "execution_count": null,
   "id": "e602bfbd",
   "metadata": {},
   "outputs": [],
   "source": [
    "15%10"
   ]
  },
  {
   "cell_type": "code",
   "execution_count": null,
   "id": "9ae06d51",
   "metadata": {},
   "outputs": [],
   "source": [
    "15//10"
   ]
  },
  {
   "cell_type": "code",
   "execution_count": null,
   "id": "1f4a0f97",
   "metadata": {},
   "outputs": [],
   "source": [
    "2**4"
   ]
  },
  {
   "cell_type": "markdown",
   "id": "73208dc9",
   "metadata": {},
   "source": [
    "### Relational Operators\n",
    "| Symbol | Task Performed |\n",
    "|----|---|\n",
    "| == | True, if it is equal |\n",
    "| !=  | True, if not equal to |\n",
    "| < | less than |\n",
    "| > | greater than |\n",
    "| <=  | less than or equal to |\n",
    "| >=  | greater than or equal to |"
   ]
  },
  {
   "cell_type": "code",
   "execution_count": null,
   "id": "6d66028b",
   "metadata": {},
   "outputs": [],
   "source": [
    "z = 1"
   ]
  },
  {
   "cell_type": "code",
   "execution_count": null,
   "id": "c4966f30",
   "metadata": {},
   "outputs": [],
   "source": [
    "z == 1"
   ]
  },
  {
   "cell_type": "code",
   "execution_count": null,
   "id": "70f72948",
   "metadata": {},
   "outputs": [],
   "source": [
    "z > 1"
   ]
  },
  {
   "cell_type": "code",
   "execution_count": null,
   "id": "58447a05",
   "metadata": {},
   "outputs": [],
   "source": [
    "z != 2"
   ]
  },
  {
   "cell_type": "markdown",
   "id": "e25ec9d1",
   "metadata": {},
   "source": [
    "### Bitwise Operators\n",
    "| Symbol | Task Performed |\n",
    "|----|---|\n",
    "| &  | Logical And |\n",
    "| l  | Logical OR |\n",
    "| ^  | XOR |\n",
    "| ~  | NOT (Negate) |\n",
    "| >>  | Right shift |\n",
    "| <<  | Left shift |"
   ]
  },
  {
   "cell_type": "code",
   "execution_count": null,
   "id": "20f196a0",
   "metadata": {},
   "outputs": [],
   "source": [
    "a = 2 #10\n",
    "b = 3 #11\n",
    "\n",
    "# Print bitwise AND operation\n",
    "print(\"a & b =\", a & b)\n",
    "\n",
    "# Print bitwise OR operation\n",
    "print(\"a | b =\", a | b)\n",
    "\n",
    "# Print bitwise NOT operation\n",
    "print(\"~a =\", ~a)\n",
    "\n",
    "# print bitwise XOR operation\n",
    "print(\"a ^ b =\", a ^ b)\n"
   ]
  },
  {
   "cell_type": "code",
   "execution_count": null,
   "id": "3e4797e7",
   "metadata": {},
   "outputs": [],
   "source": [
    "a >> 1"
   ]
  }
 ],
 "metadata": {
  "interpreter": {
   "hash": "9050ddd67e3bbb42e51beccf30f465bd317ed76acdf5694a495d5b40098d7c7e"
  },
  "kernelspec": {
   "display_name": "Python 3",
   "language": "python",
   "name": "python3"
  },
  "language_info": {
   "codemirror_mode": {
    "name": "ipython",
    "version": 3
   },
   "file_extension": ".py",
   "mimetype": "text/x-python",
   "name": "python",
   "nbconvert_exporter": "python",
   "pygments_lexer": "ipython3",
   "version": "3.7.10"
  }
 },
 "nbformat": 4,
 "nbformat_minor": 5
}
